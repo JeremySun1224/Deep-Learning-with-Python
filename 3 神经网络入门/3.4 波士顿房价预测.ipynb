{
 "cells": [
  {
   "cell_type": "code",
   "execution_count": 14,
   "metadata": {},
   "outputs": [],
   "source": [
    "from keras.datasets import boston_housing"
   ]
  },
  {
   "cell_type": "code",
   "execution_count": 15,
   "metadata": {
    "scrolled": false
   },
   "outputs": [],
   "source": [
    "(train_data, train_targets), (test_data, test_targets) = boston_housing.load_data()"
   ]
  },
  {
   "cell_type": "code",
   "execution_count": 16,
   "metadata": {},
   "outputs": [
    {
     "data": {
      "text/plain": [
       "(404, 13)"
      ]
     },
     "execution_count": 16,
     "metadata": {},
     "output_type": "execute_result"
    }
   ],
   "source": [
    "train_data.shape"
   ]
  },
  {
   "cell_type": "code",
   "execution_count": 17,
   "metadata": {},
   "outputs": [
    {
     "data": {
      "text/plain": [
       "(102, 13)"
      ]
     },
     "execution_count": 17,
     "metadata": {},
     "output_type": "execute_result"
    }
   ],
   "source": [
    "test_data.shape"
   ]
  },
  {
   "cell_type": "markdown",
   "metadata": {},
   "source": [
    "# 准备数据"
   ]
  },
  {
   "cell_type": "code",
   "execution_count": 18,
   "metadata": {},
   "outputs": [],
   "source": [
    "# 数据标准化"
   ]
  },
  {
   "cell_type": "code",
   "execution_count": 19,
   "metadata": {},
   "outputs": [],
   "source": [
    "mean = train_data.mean(axis=0)\n",
    "train_data -= mean\n",
    "std = train_data.std(axis=0)\n",
    "train_data /= std"
   ]
  },
  {
   "cell_type": "code",
   "execution_count": 20,
   "metadata": {},
   "outputs": [],
   "source": [
    "test_data -= mean\n",
    "test_data /= std"
   ]
  },
  {
   "cell_type": "markdown",
   "metadata": {},
   "source": [
    "# 构建网络"
   ]
  },
  {
   "cell_type": "code",
   "execution_count": 21,
   "metadata": {},
   "outputs": [],
   "source": [
    "from keras import models\n",
    "from keras import layers"
   ]
  },
  {
   "cell_type": "code",
   "execution_count": 22,
   "metadata": {},
   "outputs": [],
   "source": [
    "# 需要将同一个模型多次实例化，所以用一个函数来构建模型"
   ]
  },
  {
   "cell_type": "code",
   "execution_count": 28,
   "metadata": {},
   "outputs": [],
   "source": [
    "def build_model():\n",
    "    model = models.Sequential()\n",
    "    model.add(layers.Dense(units=64, activation='relu', input_shape=(train_data.shape[1],)))\n",
    "    model.add(layers.Dense(units=64, activation='relu'))\n",
    "    model.add(layers.Dense(1))\n",
    "    model.compile(optimizer='rmsprop', loss='mse', metrics=['mae'])\n",
    "    return model"
   ]
  },
  {
   "cell_type": "markdown",
   "metadata": {},
   "source": [
    "# 利用K折交叉验证来验证该方法"
   ]
  },
  {
   "cell_type": "code",
   "execution_count": 29,
   "metadata": {},
   "outputs": [],
   "source": [
    "import numpy as np"
   ]
  },
  {
   "cell_type": "code",
   "execution_count": 30,
   "metadata": {},
   "outputs": [],
   "source": [
    "k = 4\n",
    "num_val_samples = len(train_data) // k  # //表示取整，即返回商的整数部分\n",
    "num_epochs = 100\n",
    "all_scores = []"
   ]
  },
  {
   "cell_type": "code",
   "execution_count": 32,
   "metadata": {},
   "outputs": [
    {
     "name": "stdout",
     "output_type": "stream",
     "text": [
      "Processing flod # 0\n",
      "Processing flod # 1\n",
      "Processing flod # 2\n",
      "Processing flod # 3\n"
     ]
    }
   ],
   "source": [
    "for i in range(k):\n",
    "    print('Processing flod #', i)\n",
    "    # 准备验证数据：第k个分区数据\n",
    "    val_data = train_data[i * num_val_samples: (i + 1) * num_val_samples]\n",
    "    val_targets = train_targets[i *num_val_samples: (i + 1) * num_val_samples]\n",
    "    # 准备训练数据：其他所有分区的数据\n",
    "    partial_train_data = np.concatenate(\n",
    "        [train_data[:i * num_val_samples],\n",
    "        train_data[(i + 1) * num_val_samples:]],axis=0)\n",
    "    partial_train_targets = np.concatenate(\n",
    "        [train_targets[:i * num_val_samples],\n",
    "        train_targets[(i + 1) * num_val_samples:]],axis=0)\n",
    "    # 构建Keras模型（已编译）\n",
    "    model = build_model()\n",
    "    model.fit(partial_train_data, partial_train_targets, epochs=num_epochs, batch_size=1, verbose=0)  # 静默模式verbose=0\n",
    "    val_mse, val_mae = model.evaluate(val_data, val_targets, verbose=0)  # 在验证集上评估模型\n",
    "    all_scores.append(val_mae)"
   ]
  },
  {
   "cell_type": "code",
   "execution_count": 33,
   "metadata": {},
   "outputs": [
    {
     "data": {
      "text/plain": [
       "[2.3295871243618502, 2.265496362553965, 3.0113189621727066, 2.413770221837676]"
      ]
     },
     "execution_count": 33,
     "metadata": {},
     "output_type": "execute_result"
    }
   ],
   "source": [
    "all_scores"
   ]
  },
  {
   "cell_type": "code",
   "execution_count": 34,
   "metadata": {},
   "outputs": [
    {
     "data": {
      "text/plain": [
       "2.5050431677315497"
      ]
     },
     "execution_count": 34,
     "metadata": {},
     "output_type": "execute_result"
    }
   ],
   "source": [
    "np.mean(all_scores)  # 平均绝对误差"
   ]
  },
  {
   "cell_type": "markdown",
   "metadata": {},
   "source": [
    "# 保存每折的验证结果"
   ]
  },
  {
   "cell_type": "code",
   "execution_count": 35,
   "metadata": {},
   "outputs": [],
   "source": [
    "num_epochs = 500\n",
    "all_mae_histories = []"
   ]
  },
  {
   "cell_type": "code",
   "execution_count": 36,
   "metadata": {},
   "outputs": [
    {
     "name": "stdout",
     "output_type": "stream",
     "text": [
      "Processing flod # 0\n",
      "Processing flod # 1\n",
      "Processing flod # 2\n",
      "Processing flod # 3\n"
     ]
    }
   ],
   "source": [
    "for i in range(k):\n",
    "    print('Processing flod #', i)\n",
    "    val_data = train_data[i * num_val_samples: (i + 1) * num_val_samples]\n",
    "    val_targets = train_targets[i * num_val_samples: (i + 1) * num_val_samples]\n",
    "    partial_train_data = np.concatenate(\n",
    "        [train_data[:i * num_val_samples],\n",
    "        train_data[(i + 1) * num_val_samples:]], axis=0)\n",
    "    partial_train_targets = np.concatenate(\n",
    "        [train_targets[:i * num_val_samples],\n",
    "        train_targets[(i + 1) * num_val_samples:]],axis=0)\n",
    "    model = build_model()\n",
    "    history = model.fit(partial_train_data, partial_train_targets, validation_data=(val_data, val_targets), epochs=num_epochs, batch_size=1, verbose=0)\n",
    "    mae_history = history.history['val_mean_absolute_error']\n",
    "    all_mae_histories.append(mae_history)"
   ]
  },
  {
   "cell_type": "markdown",
   "metadata": {},
   "source": [
    "# 计算所有轮次中的K折验证分数平均值"
   ]
  },
  {
   "cell_type": "code",
   "execution_count": 37,
   "metadata": {},
   "outputs": [],
   "source": [
    "average_mae_history = [\n",
    "    np.mean([x[i] for x in all_mae_histories]) for i in range(num_epochs)\n",
    "]"
   ]
  },
  {
   "cell_type": "code",
   "execution_count": 39,
   "metadata": {},
   "outputs": [
    {
     "data": {
      "text/plain": [
       "[4.796260057109418,\n",
       " 3.388253514129336,\n",
       " 3.0613692880857104,\n",
       " 2.7477962203545143,\n",
       " 2.8000500544463054,\n",
       " 2.702017045257115,\n",
       " 2.642657151316652,\n",
       " 2.632763185123406,\n",
       " 2.5626519623369273,\n",
       " 2.5882294095388736,\n",
       " 2.4941609602163335,\n",
       " 2.7348955716236985,\n",
       " 2.5149962158486394,\n",
       " 2.401639177067445,\n",
       " 2.429407354628686,\n",
       " 2.4309913238676466,\n",
       " 2.477810794764226,\n",
       " 2.4454405071711776,\n",
       " 2.365843332640015,\n",
       " 2.4989384589809003,\n",
       " 2.3823630986827435,\n",
       " 2.34677781799052,\n",
       " 2.3206379862114934,\n",
       " 2.338277532322572,\n",
       " 2.502779268982387,\n",
       " 2.338780143473408,\n",
       " 2.287129287672515,\n",
       " 2.413876928905449,\n",
       " 2.3147823987620892,\n",
       " 2.4469648103902832,\n",
       " 2.359624257182131,\n",
       " 2.475844658247315,\n",
       " 2.3268122968107168,\n",
       " 2.44396447427202,\n",
       " 2.4180243770674905,\n",
       " 2.2758108082384165,\n",
       " 2.3691625772136273,\n",
       " 2.3232234421342906,\n",
       " 2.306444499752309,\n",
       " 2.37565416569757,\n",
       " 2.2684173749224974,\n",
       " 2.3048877963925354,\n",
       " 2.2882128304774216,\n",
       " 2.2937845983127554,\n",
       " 2.221562161303983,\n",
       " 2.467723325927659,\n",
       " 2.296288751139499,\n",
       " 2.3318388131585452,\n",
       " 2.3373626376142598,\n",
       " 2.2947503859453864,\n",
       " 2.2595896461222433,\n",
       " 2.3024967696407055,\n",
       " 2.518236018643521,\n",
       " 2.4918851285877794,\n",
       " 2.3478153944015503,\n",
       " 2.2854295131003504,\n",
       " 2.3430476707987267,\n",
       " 2.3106396516951007,\n",
       " 2.285583057025872,\n",
       " 2.3557463978776836,\n",
       " 2.411367215732537,\n",
       " 2.3336899764466996,\n",
       " 2.4100201903003278,\n",
       " 2.284046269879483,\n",
       " 2.2911304188246775,\n",
       " 2.246129600128325,\n",
       " 2.3411878736892553,\n",
       " 2.3111450589529356,\n",
       " 2.434641204258003,\n",
       " 2.38375996599103,\n",
       " 2.3732576771537857,\n",
       " 2.336164954865333,\n",
       " 2.347287992439648,\n",
       " 2.4527557568975014,\n",
       " 2.484023306629445,\n",
       " 2.357121125306233,\n",
       " 2.4686221533482615,\n",
       " 2.4360119859770974,\n",
       " 2.728812263743712,\n",
       " 2.37052836276517,\n",
       " 2.322225072596333,\n",
       " 2.4812820488863654,\n",
       " 2.3129663384786925,\n",
       " 2.3595213996301783,\n",
       " 2.3176794335393622,\n",
       " 2.3595813512802124,\n",
       " 2.502386556993617,\n",
       " 2.4126551835843832,\n",
       " 2.4139883211343593,\n",
       " 2.5575591963116486,\n",
       " 2.5964859322746205,\n",
       " 2.4215288280260445,\n",
       " 2.452032169493118,\n",
       " 2.3925284088248073,\n",
       " 2.4262253695195266,\n",
       " 2.3882444813700006,\n",
       " 2.6779461331886822,\n",
       " 2.3423883006124213,\n",
       " 2.5276612031577836,\n",
       " 2.513953472128009,\n",
       " 2.509089172476589,\n",
       " 2.3979618832616523,\n",
       " 2.440349116183744,\n",
       " 2.38840395743304,\n",
       " 2.691270109450463,\n",
       " 2.419729199739966,\n",
       " 2.4378429462413975,\n",
       " 2.678301404018213,\n",
       " 2.4980266684352763,\n",
       " 2.441472221129011,\n",
       " 2.4448500517571325,\n",
       " 2.4749766682634258,\n",
       " 2.5182294692143357,\n",
       " 2.501367623263066,\n",
       " 2.6177666564979174,\n",
       " 2.4666850236382816,\n",
       " 2.4289527966244386,\n",
       " 2.4603915615837173,\n",
       " 2.6177517836636834,\n",
       " 2.6309449401232277,\n",
       " 2.6560726307406286,\n",
       " 2.5060335621975436,\n",
       " 2.4928411410586673,\n",
       " 2.4563701919990013,\n",
       " 2.526227661878756,\n",
       " 2.5380234647505353,\n",
       " 2.50399382987825,\n",
       " 2.5032031819371894,\n",
       " 2.4836852810170393,\n",
       " 2.5070489231902773,\n",
       " 2.3633859027730355,\n",
       " 2.501954226210566,\n",
       " 2.61459484430823,\n",
       " 2.5354028975609504,\n",
       " 2.4519542845168916,\n",
       " 2.4971152166328805,\n",
       " 2.581645126389985,\n",
       " 2.4492959893575987,\n",
       " 2.4143243060253634,\n",
       " 2.6637786756647697,\n",
       " 2.5366817748192516,\n",
       " 2.4731978083601094,\n",
       " 2.5734511885312523,\n",
       " 2.60123874055277,\n",
       " 2.570245692045382,\n",
       " 2.5418442770986274,\n",
       " 2.4445438207966266,\n",
       " 2.501221737059036,\n",
       " 2.630877363799822,\n",
       " 2.5947603294164825,\n",
       " 2.51725704953222,\n",
       " 2.78564722939293,\n",
       " 2.5786068734556142,\n",
       " 2.6079180500294905,\n",
       " 2.513511546767584,\n",
       " 2.5236368686845987,\n",
       " 2.511103957006247,\n",
       " 2.699220605415873,\n",
       " 2.625960405510251,\n",
       " 2.473876307506372,\n",
       " 2.5795727437085443,\n",
       " 2.6631016235540406,\n",
       " 2.5459421660640453,\n",
       " 2.561390486094031,\n",
       " 2.599619539657442,\n",
       " 2.64516818641436,\n",
       " 2.611063655060117,\n",
       " 2.681190438789897,\n",
       " 2.56005585547721,\n",
       " 2.59228509133405,\n",
       " 2.5991370795977,\n",
       " 2.6893311762573693,\n",
       " 2.5354024514113322,\n",
       " 2.5538929807077544,\n",
       " 2.7876313004163236,\n",
       " 2.673041688333644,\n",
       " 2.6761560227611274,\n",
       " 2.5631305817330237,\n",
       " 2.6540929456748583,\n",
       " 2.5369847163115398,\n",
       " 2.6213186353740126,\n",
       " 2.692124087031525,\n",
       " 2.683301110078793,\n",
       " 2.559493992588308,\n",
       " 2.49164353974975,\n",
       " 2.506173821959165,\n",
       " 2.5099552185228555,\n",
       " 2.5382139682769775,\n",
       " 2.538884977302929,\n",
       " 2.597476792807626,\n",
       " 2.538606520926598,\n",
       " 2.468556840821068,\n",
       " 2.7151122919403683,\n",
       " 2.599876325909454,\n",
       " 2.596562389099952,\n",
       " 2.54715106746938,\n",
       " 2.5698494970208348,\n",
       " 2.561764584909571,\n",
       " 2.591601623166906,\n",
       " 2.6294966286951955,\n",
       " 2.6460394847511064,\n",
       " 2.6456823136546825,\n",
       " 2.543909434044715,\n",
       " 2.557825781331204,\n",
       " 2.5955598448762798,\n",
       " 2.5641638217586102,\n",
       " 2.528260614612315,\n",
       " 2.5926220310796606,\n",
       " 2.582675732008301,\n",
       " 2.6317838029106064,\n",
       " 2.621604016511747,\n",
       " 2.6780449576897194,\n",
       " 2.7007159053689183,\n",
       " 2.516550398108983,\n",
       " 2.6158291998476084,\n",
       " 2.5493293634735714,\n",
       " 2.660871439641065,\n",
       " 2.616767765271782,\n",
       " 2.632181769550437,\n",
       " 2.6869088871644276,\n",
       " 2.6530463459468123,\n",
       " 2.6320890483289663,\n",
       " 2.590660503595182,\n",
       " 2.5183565711030864,\n",
       " 2.6299363681585484,\n",
       " 2.453300703870188,\n",
       " 2.678470434528766,\n",
       " 2.611036542618629,\n",
       " 2.5252279975626726,\n",
       " 2.574849034299945,\n",
       " 2.5874877212071183,\n",
       " 2.5785850687782363,\n",
       " 2.6788795395652847,\n",
       " 2.5854630741742577,\n",
       " 2.61803403939351,\n",
       " 2.5110660578944897,\n",
       " 2.7155975575494296,\n",
       " 2.6581839110591625,\n",
       " 2.713769262379939,\n",
       " 2.720319452852306,\n",
       " 2.6315900948968265,\n",
       " 2.503074032245296,\n",
       " 2.618421713904579,\n",
       " 2.563002438828496,\n",
       " 2.5910642796223704,\n",
       " 2.6692189285070587,\n",
       " 2.636259389395761,\n",
       " 2.711792637806128,\n",
       " 2.6639140490258093,\n",
       " 2.6107847171254677,\n",
       " 2.644989261532774,\n",
       " 2.747028013267139,\n",
       " 2.632825181035712,\n",
       " 2.788964832183158,\n",
       " 2.7615835123723094,\n",
       " 2.6287948919994997,\n",
       " 2.5831478550882627,\n",
       " 2.6128941691747984,\n",
       " 2.6477386290484137,\n",
       " 2.5367897489283346,\n",
       " 2.744272819840082,\n",
       " 2.609420668960798,\n",
       " 2.5981972937536715,\n",
       " 2.5857975648181273,\n",
       " 2.718702501589709,\n",
       " 2.585610517180792,\n",
       " 2.710108562271194,\n",
       " 2.6277367513958767,\n",
       " 2.6921139058500234,\n",
       " 2.6480751710362953,\n",
       " 2.6669606997234987,\n",
       " 2.6331881969281943,\n",
       " 2.6222872663252423,\n",
       " 2.6455236283859405,\n",
       " 2.6589115456779404,\n",
       " 2.7398288769297077,\n",
       " 2.663732579438993,\n",
       " 2.6161956787109375,\n",
       " 2.687159921863292,\n",
       " 2.6426400229482367,\n",
       " 2.6184022473816824,\n",
       " 2.719664494590004,\n",
       " 2.6746710220185834,\n",
       " 2.6133947065561127,\n",
       " 2.669813649489148,\n",
       " 2.739882222496637,\n",
       " 2.784980554391842,\n",
       " 2.660806932071648,\n",
       " 2.6505073202718603,\n",
       " 2.6351966869713053,\n",
       " 2.577134380246153,\n",
       " 2.655553659590164,\n",
       " 2.727260953128928,\n",
       " 2.6677668389707505,\n",
       " 2.6435816169965385,\n",
       " 2.6578577178539615,\n",
       " 2.7366686587286466,\n",
       " 2.658342631736604,\n",
       " 2.679498346725313,\n",
       " 2.520655010006215,\n",
       " 2.6129037566704327,\n",
       " 2.706570046963078,\n",
       " 2.6794378261755005,\n",
       " 2.6271677430313414,\n",
       " 2.6724759812402255,\n",
       " 2.5772733074603695,\n",
       " 2.654392626025889,\n",
       " 2.6929136797933295,\n",
       " 2.5992459365636993,\n",
       " 2.7654095640276917,\n",
       " 2.595002933303909,\n",
       " 2.682534288651872,\n",
       " 2.555692963080831,\n",
       " 2.6701220628058557,\n",
       " 2.6498412424975104,\n",
       " 2.544490886206674,\n",
       " 2.6565990943719844,\n",
       " 2.692808197276427,\n",
       " 2.717087137817156,\n",
       " 2.5394363108247813,\n",
       " 2.6360900366660394,\n",
       " 2.662631151699784,\n",
       " 2.6636208437456945,\n",
       " 2.659545416879182,\n",
       " 2.6189155189117583,\n",
       " 2.7328604223704573,\n",
       " 2.599223750652653,\n",
       " 2.6741492040086503,\n",
       " 2.6284818495854294,\n",
       " 2.623454209601525,\n",
       " 2.611454715823183,\n",
       " 2.7057478191828968,\n",
       " 2.698738752025189,\n",
       " 2.5850491323093374,\n",
       " 2.653373057299321,\n",
       " 2.5935269440754802,\n",
       " 2.6121068343077556,\n",
       " 2.6159360774672855,\n",
       " 2.650537436551387,\n",
       " 2.7169923546290633,\n",
       " 2.6359956594977048,\n",
       " 2.7423479155738755,\n",
       " 2.631289093801291,\n",
       " 2.6303962846793754,\n",
       " 2.664484982443328,\n",
       " 2.699613078986064,\n",
       " 2.6992350462639685,\n",
       " 2.669589538385372,\n",
       " 2.7760482920278418,\n",
       " 2.6363036113210248,\n",
       " 2.5998116495585677,\n",
       " 2.628322929438978,\n",
       " 2.6913736657340928,\n",
       " 2.589674122262709,\n",
       " 2.636248475254172,\n",
       " 2.6844504764764614,\n",
       " 2.6489735121774203,\n",
       " 2.670982103536625,\n",
       " 2.6810184304076845,\n",
       " 2.584053884638418,\n",
       " 2.6823725712181314,\n",
       " 2.6390176928869566,\n",
       " 2.6650193209695345,\n",
       " 2.6757760472817,\n",
       " 2.6557599695602265,\n",
       " 2.627571098875291,\n",
       " 2.6772239444279435,\n",
       " 2.594507050986337,\n",
       " 2.541123425606454,\n",
       " 2.7847810464330234,\n",
       " 2.640872012270559,\n",
       " 2.677357074057702,\n",
       " 2.571437351774461,\n",
       " 2.6438607355155566,\n",
       " 2.6455416407915626,\n",
       " 2.79986835824381,\n",
       " 2.597613535305061,\n",
       " 2.644978195133776,\n",
       " 2.6470470286831995,\n",
       " 2.551279341820443,\n",
       " 2.6562684573749507,\n",
       " 2.691870891221679,\n",
       " 2.6323655985369543,\n",
       " 2.7104294831209845,\n",
       " 2.582805651249272,\n",
       " 2.6079983829271676,\n",
       " 2.6017213457881816,\n",
       " 2.6500022116273936,\n",
       " 2.680436969983696,\n",
       " 2.727758178616514,\n",
       " 2.7039500097237013,\n",
       " 2.7281139782159634,\n",
       " 2.6762287699350034,\n",
       " 2.6713169553492326,\n",
       " 2.7374000797177307,\n",
       " 2.7138134182089626,\n",
       " 2.677783076125796,\n",
       " 2.691779905026502,\n",
       " 2.758059979665398,\n",
       " 2.593827883795936,\n",
       " 2.604706123323724,\n",
       " 2.775985374309049,\n",
       " 2.7521808997239217,\n",
       " 2.7074889853449147,\n",
       " 2.7127272787660655,\n",
       " 2.769188746367351,\n",
       " 2.7342450606941,\n",
       " 2.7010844662637994,\n",
       " 2.7177976145602685,\n",
       " 2.771883242201097,\n",
       " 2.7264381127782387,\n",
       " 2.743890754067072,\n",
       " 2.729719264672534,\n",
       " 2.6509366342336826,\n",
       " 2.68152922096819,\n",
       " 2.679923933331329,\n",
       " 2.614004593084354,\n",
       " 2.7163075869626336,\n",
       " 2.665483850063664,\n",
       " 2.6982733802040024,\n",
       " 2.6143422870352717,\n",
       " 2.704819632048654,\n",
       " 2.6530337782189397,\n",
       " 2.6537750298433966,\n",
       " 2.6745320263475474,\n",
       " 2.5967485538803703,\n",
       " 2.6541964594680483,\n",
       " 2.643262269473312,\n",
       " 2.51615570677389,\n",
       " 2.7193188029940765,\n",
       " 2.618909507694811,\n",
       " 2.7120476512625666,\n",
       " 2.6763418877478875,\n",
       " 2.6569032645461585,\n",
       " 2.6460168798371115,\n",
       " 2.70600415102326,\n",
       " 2.6636178068595355,\n",
       " 2.7086658997110797,\n",
       " 2.6681158011502557,\n",
       " 2.6770900062995384,\n",
       " 2.644286919348311,\n",
       " 2.7017979940565504,\n",
       " 2.7154475662967945,\n",
       " 2.7325244964939532,\n",
       " 2.667916264864478,\n",
       " 2.747628033751308,\n",
       " 2.7043554334357234,\n",
       " 2.8150940897441146,\n",
       " 2.63806416728709,\n",
       " 2.7318209468728245,\n",
       " 2.698240911606515,\n",
       " 2.741745174521267,\n",
       " 2.6422092312633403,\n",
       " 2.6649939128668003,\n",
       " 2.6771390296445032,\n",
       " 2.704909645684875,\n",
       " 2.6769309032081376,\n",
       " 2.6614019752729057,\n",
       " 2.701143607054606,\n",
       " 2.7349978083431132,\n",
       " 2.629518995190611,\n",
       " 2.6662148579512492,\n",
       " 2.689901342486391,\n",
       " 2.668977384520049,\n",
       " 2.715994793589753,\n",
       " 2.6927628953858176,\n",
       " 2.765164461466345,\n",
       " 2.756109609462247,\n",
       " 2.628105345338878,\n",
       " 2.6135436508915215,\n",
       " 2.609996760245597,\n",
       " 2.7309900380597254,\n",
       " 2.7435821589857046,\n",
       " 2.67138934489524,\n",
       " 2.5868389795322226,\n",
       " 2.5952220919108626,\n",
       " 2.6751992737892833,\n",
       " 2.7320903409825696,\n",
       " 2.6492496634473897,\n",
       " 2.6893944114741712,\n",
       " 2.6182440802602485,\n",
       " 2.721418293395845,\n",
       " 2.736414138633426,\n",
       " 2.6559950998514004,\n",
       " 2.6308531300856335,\n",
       " 2.635348730748243,\n",
       " 2.649176298981846,\n",
       " 2.6393699516164197,\n",
       " 2.6635589198310776,\n",
       " 2.6374915023841483,\n",
       " 2.722087464710273,\n",
       " 2.6684216437953534,\n",
       " 2.672779156429933,\n",
       " 2.6177232041217313,\n",
       " 2.672455388720673,\n",
       " 2.701095463025688,\n",
       " 2.6885726558099883,\n",
       " 2.7041939591417217,\n",
       " 2.5782803780961747,\n",
       " 2.646364452815292]"
      ]
     },
     "execution_count": 39,
     "metadata": {},
     "output_type": "execute_result"
    }
   ],
   "source": [
    "average_mae_history"
   ]
  },
  {
   "cell_type": "code",
   "execution_count": 41,
   "metadata": {},
   "outputs": [
    {
     "data": {
      "text/plain": [
       "500"
      ]
     },
     "execution_count": 41,
     "metadata": {},
     "output_type": "execute_result"
    }
   ],
   "source": [
    "len(average_mae_history)"
   ]
  },
  {
   "cell_type": "markdown",
   "metadata": {},
   "source": [
    "# 绘制验证分数"
   ]
  },
  {
   "cell_type": "code",
   "execution_count": 42,
   "metadata": {},
   "outputs": [],
   "source": [
    "import matplotlib.pyplot as plt"
   ]
  },
  {
   "cell_type": "code",
   "execution_count": 43,
   "metadata": {},
   "outputs": [
    {
     "data": {
      "image/png": "[encoded data removed]",
      "text/plain": [
       "<Figure size 432x288 with 1 Axes>"
      ]
     },
     "metadata": {},
     "output_type": "display_data"
    }
   ],
   "source": [
    "plt.plot(range(1, len(average_mae_history) + 1), average_mae_history)\n",
    "plt.xlabel('Epochs')\n",
    "plt.ylabel('Validation MAE')\n",
    "plt.show()"
   ]
  },
  {
   "cell_type": "markdown",
   "metadata": {},
   "source": [
    "# 绘制验证分数（删除前十个点，并将数据点替换为前面数据点的指数移动平均）"
   ]
  },
  {
   "cell_type": "code",
   "execution_count": 44,
   "metadata": {},
   "outputs": [],
   "source": [
    "def smooth_curve(points, factor=0.9):\n",
    "    smoothed_points = []\n",
    "    for point in points:\n",
    "        if smoothed_points:\n",
    "            previous = smoothed_points[-1]\n",
    "            smoothed_points.append(previous * factor + point * (1 - factor))\n",
    "        else:\n",
    "            smoothed_points.append(point)\n",
    "    return smoothed_points"
   ]
  },
  {
   "cell_type": "code",
   "execution_count": 45,
   "metadata": {},
   "outputs": [],
   "source": [
    "smooth_mae_history = smooth_curve(average_mae_history[10:])"
   ]
  },
  {
   "cell_type": "code",
   "execution_count": 46,
   "metadata": {},
   "outputs": [
    {
     "data": {
      "image/png": "[encoded data removed]",
      "text/plain": [
       "<Figure size 432x288 with 1 Axes>"
      ]
     },
     "metadata": {},
     "output_type": "display_data"
    }
   ],
   "source": [
    "plt.plot(range(1, len(smooth_mae_history) + 1), smooth_mae_history)\n",
    "plt.xlabel('Epochs')\n",
    "plt.ylabel('Validation MAE')\n",
    "plt.show()"
   ]
  },
  {
   "cell_type": "code",
   "execution_count": 47,
   "metadata": {},
   "outputs": [],
   "source": [
    "# 验证MAE在80轮后不再显著降低，之后开始过拟合"
   ]
  },
  {
   "cell_type": "markdown",
   "metadata": {},
   "source": [
    "# 调参后，使用最佳参数训练模型"
   ]
  },
  {
   "cell_type": "code",
   "execution_count": 48,
   "metadata": {},
   "outputs": [],
   "source": [
    "model = build_model()"
   ]
  },
  {
   "cell_type": "code",
   "execution_count": 49,
   "metadata": {},
   "outputs": [
    {
     "data": {
      "text/plain": [
       "<keras.callbacks.History at 0x1420f19b400>"
      ]
     },
     "execution_count": 49,
     "metadata": {},
     "output_type": "execute_result"
    }
   ],
   "source": [
    "model.fit(train_data, train_targets, epochs=80, batch_size=16, verbose=0)"
   ]
  },
  {
   "cell_type": "code",
   "execution_count": 50,
   "metadata": {},
   "outputs": [
    {
     "name": "stdout",
     "output_type": "stream",
     "text": [
      "\r",
      " 32/102 [========>.....................] - ETA: 0s"
     ]
    }
   ],
   "source": [
    "test_mse_score, test_mae_score = model.evaluate(test_data, test_targets)"
   ]
  },
  {
   "cell_type": "code",
   "execution_count": 51,
   "metadata": {},
   "outputs": [
    {
     "data": {
      "text/plain": [
       "2.695051155838312"
      ]
     },
     "execution_count": 51,
     "metadata": {},
     "output_type": "execute_result"
    }
   ],
   "source": [
    "test_mae_score"
   ]
  },
  {
   "cell_type": "code",
   "execution_count": 52,
   "metadata": {},
   "outputs": [],
   "source": [
    "# 预测的与实际价格相差约2695美元"
   ]
  }
 ],
 "metadata": {
  "kernelspec": {
   "display_name": "Python 3",
   "language": "python",
   "name": "python3"
  },
  "language_info": {
   "codemirror_mode": {
    "name": "ipython",
    "version": 3
   },
   "file_extension": ".py",
   "mimetype": "text/x-python",
   "name": "python",
   "nbconvert_exporter": "python",
   "pygments_lexer": "ipython3",
   "version": "3.6.5"
  },
  "toc": {
   "base_numbering": 1,
   "nav_menu": {},
   "number_sections": true,
   "sideBar": true,
   "skip_h1_title": false,
   "title_cell": "Table of Contents",
   "title_sidebar": "Contents",
   "toc_cell": false,
   "toc_position": {},
   "toc_section_display": true,
   "toc_window_display": false
  }
 },
 "nbformat": 4,
 "nbformat_minor": 2
}
