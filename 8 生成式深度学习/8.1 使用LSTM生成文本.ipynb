{
 "cells": [
  {
   "cell_type": "markdown",
   "metadata": {},
   "source": [
    "# 解析初始文本文件"
   ]
  },
  {
   "cell_type": "code",
   "execution_count": 1,
   "metadata": {},
   "outputs": [
    {
     "name": "stderr",
     "output_type": "stream",
     "text": [
      "Using TensorFlow backend.\n"
     ]
    }
   ],
   "source": [
    "import keras\n",
    "import numpy as np"
   ]
  },
  {
   "cell_type": "code",
   "execution_count": 6,
   "metadata": {},
   "outputs": [],
   "source": [
    "path = r'./nietzsche.txt'"
   ]
  },
  {
   "cell_type": "code",
   "execution_count": 7,
   "metadata": {},
   "outputs": [],
   "source": [
    "text = open(path).read().lower()"
   ]
  },
  {
   "cell_type": "code",
   "execution_count": 8,
   "metadata": {},
   "outputs": [
    {
     "name": "stdout",
     "output_type": "stream",
     "text": [
      "Corpus length: 600901\n"
     ]
    }
   ],
   "source": [
    "print('Corpus length:', len(text))"
   ]
  },
  {
   "cell_type": "markdown",
   "metadata": {},
   "source": [
    "# 将字符序列向量化"
   ]
  },
  {
   "cell_type": "code",
   "execution_count": 9,
   "metadata": {},
   "outputs": [
    {
     "name": "stdout",
     "output_type": "stream",
     "text": [
      "Number of sequences: 200281\n"
     ]
    }
   ],
   "source": [
    "maxlen = 60\n",
    "step = 3\n",
    "sentences = []\n",
    "next_chars = []\n",
    "for i in range(0, len(text) - maxlen, step):\n",
    "    sentences.append(text[i: i + maxlen])\n",
    "    next_chars.append(text[i + maxlen])\n",
    "print('Number of sequences:', len(sentences))"
   ]
  },
  {
   "cell_type": "code",
   "execution_count": 10,
   "metadata": {},
   "outputs": [
    {
     "name": "stdout",
     "output_type": "stream",
     "text": [
      "Unique characters: 60\n"
     ]
    }
   ],
   "source": [
    "chars = sorted(list(set(text)))\n",
    "print('Unique characters:', len(chars))"
   ]
  },
  {
   "cell_type": "code",
   "execution_count": 14,
   "metadata": {},
   "outputs": [],
   "source": [
    "char_indices = dict((char, chars.index(char)) for char in chars)"
   ]
  },
  {
   "cell_type": "code",
   "execution_count": 18,
   "metadata": {},
   "outputs": [
    {
     "name": "stdout",
     "output_type": "stream",
     "text": [
      "Vectorization...\n"
     ]
    }
   ],
   "source": [
    "print('Vectorization...')\n",
    "x = np.zeros((len(sentences), maxlen, len(chars)), dtype=np.bool)\n",
    "y = np.zeros((len(sentences), len(chars)), dtype=np.bool)\n",
    "for i, sentence in enumerate(sentences):\n",
    "    for t, char in enumerate(sentence):\n",
    "        x[i, t, char_indices[char]] = 1\n",
    "    y[i, char_indices[next_chars[i]]] = 1"
   ]
  },
  {
   "cell_type": "markdown",
   "metadata": {},
   "source": [
    "# 构建网络"
   ]
  },
  {
   "cell_type": "markdown",
   "metadata": {},
   "source": [
    "## 用于预测下一个字符的单层LSTM模型"
   ]
  },
  {
   "cell_type": "code",
   "execution_count": 19,
   "metadata": {},
   "outputs": [],
   "source": [
    "from keras import layers"
   ]
  },
  {
   "cell_type": "code",
   "execution_count": 20,
   "metadata": {},
   "outputs": [
    {
     "name": "stdout",
     "output_type": "stream",
     "text": [
      "_________________________________________________________________\n",
      "Layer (type)                 Output Shape              Param #   \n",
      "=================================================================\n",
      "lstm_1 (LSTM)                (None, 128)               96768     \n",
      "_________________________________________________________________\n",
      "dense_1 (Dense)              (None, 60)                7740      \n",
      "=================================================================\n",
      "Total params: 104,508\n",
      "Trainable params: 104,508\n",
      "Non-trainable params: 0\n",
      "_________________________________________________________________\n"
     ]
    }
   ],
   "source": [
    "model = keras.models.Sequential()\n",
    "model.add(layers.LSTM(units=128, input_shape=(maxlen, len(chars))))\n",
    "model.add(layers.Dense(units=len(chars), activation='softmax'))\n",
    "model.summary()"
   ]
  },
  {
   "cell_type": "markdown",
   "metadata": {},
   "source": [
    "## 模型编译配置"
   ]
  },
  {
   "cell_type": "code",
   "execution_count": 21,
   "metadata": {},
   "outputs": [],
   "source": [
    "optimizer = keras.optimizers.RMSprop(lr=0.01)\n",
    "model.compile(optimizer=optimizer, loss='categorical_crossentropy')"
   ]
  },
  {
   "cell_type": "markdown",
   "metadata": {},
   "source": [
    "## 给定模型预测，采样下一个字符的函数"
   ]
  },
  {
   "cell_type": "code",
   "execution_count": 22,
   "metadata": {},
   "outputs": [],
   "source": [
    "def sample(preds, temperature=1.0):\n",
    "    preds = np.asarray(preds).astype('float64')\n",
    "    preds = np.log(preds) / temperature\n",
    "    exp_preds = np.exp(preds)\n",
    "    preds = exp_preds / np.sum(exp_preds)\n",
    "    probas = np.random.multinomial(1, preds, 1)\n",
    "    return np.argmax(probas)"
   ]
  },
  {
   "cell_type": "markdown",
   "metadata": {},
   "source": [
    "## 文本生成循环"
   ]
  },
  {
   "cell_type": "code",
   "execution_count": 23,
   "metadata": {},
   "outputs": [],
   "source": [
    "import random\n",
    "import sys"
   ]
  },
  {
   "cell_type": "code",
   "execution_count": 24,
   "metadata": {},
   "outputs": [
    {
     "name": "stdout",
     "output_type": "stream",
     "text": [
      "epoch 1\n",
      "Epoch 1/1\n",
      "200281/200281 [==============================] - 379s - loss: 1.9956   \n",
      "--- Generating with seed: \"\n",
      "\n",
      "\n",
      "chapter vii. our virtues\n",
      "\n",
      "\n",
      "214. our virtues?--it is proba\"\n",
      "------ temperature: 0.2\n",
      "\n",
      "\n",
      "\n",
      "chapter vii. our virtues\n",
      "\n",
      "\n",
      "214. our virtues?--it is probarition of the such and the free is the self and consideration of the selfed the free of the partion of the sure of the subtions of the such the such the suble that the sensition of the subter the sensible the subjitt the sensition of the subtic and the have the surition of the such the sumption of the subtions of the self to all the forming and the sensition that is the such the subtions and the s\n",
      "------ temperature: 0.5\n",
      "ng and the sensition that is the such the subtions and the serition, and the sone as he not the indivent dolige and them the mansing and the \"constiontions the experience of the must in the trans; and sensitt the beenness as it is the word of the and the trust of the self much of and the such the berieved and heart of the formarial with the hand and such avolus in the and heart and with the same and consuring who he sensition is it of the distrusion. the s\n",
      "------ temperature: 1.0\n",
      "nd consuring who he sensition is it of the distrusion. the serfor palildy keow evol\"-blingure xire of mensents of tham underile even the\n",
      "sime becemity of disgrattity. and\n",
      "religion, and hus conferne-timst, the\n",
      "shand\" it is dispriserves meave the wolle\" suckimation teaken and froe to profeerres to all the evortner lafurrors for that has then detions as of that the leter of the supure surce, over locm to lac\n",
      "metures; and furtiess and surmanipandects; . hovers\n",
      "------ temperature: 1.2\n",
      "m to lac\n",
      "metures; and furtiess and surmanipandects; . hovers and not \"the daight, and vileatd, and cinali; on theorige this cases trens dacule,\n",
      "greehs to own itmong morality.=--in to rear)!-\n",
      "\n",
      "\n",
      "\n",
      "\n",
      "\n",
      "\n",
      ". fid sting\"t, wouts, ather--this forgutacneq: i d\"ulity an isteutiot xirtablow exprocter bdats, or thesee they handouming, is eve tuous. \n",
      "news\n",
      "itance with subplety, is phisonous rexate mume\n",
      "him:liaed man; which rongails, the\n",
      "\"saicte\n",
      "gelive alvant is thys apphiso\n",
      "epoch 2\n",
      "Epoch 1/1\n",
      "200281/200281 [==============================] - 384s - loss: 1.6444   \n",
      "--- Generating with seed: \"o place the greatness of man, the conception of \"greatness,\"\"\n",
      "------ temperature: 0.2\n",
      "o place the greatness of man, the conception of \"greatness,\" and the sense of the sense of the sense the self-whole the self-man who is all the same the sense the sense of the sense it will the self-great the sense the sense of the suble of the self-whole order to the sense of the sense of the sense the souls the believe the sense to all the sense of the sense of the self-whole the sense of the sense the self-whole the sense of the self-great the sense of \n",
      "------ temperature: 0.5\n",
      "nse the self-whole the sense of the self-great the sense of the\n",
      "suble to men is to stand, and here is completed the experience our as delice to the learn they has the superied before and supery it is for which the self-serrither of all the problens is melfestion in the world and an his what is the are seem to it well bad i an ourselfles and subjection in the same the provise of the\n",
      "self-gratic in the thus ourself say, of the self-well feeling, the suble of\n",
      "------ temperature: 1.0\n",
      "the thus ourself say, of the self-well feeling, the suble of tremiritions, and in even ther pulsac, of their goodnis some whichstill as we himselliness, the science\n",
      "their itsolity. self their unveriation,\n",
      "aldry time tarthordes areity, it is the seount that,\n",
      "it belitate without is delengervent the that mide untaking that therevolow and jespositodiatertally ant\n",
      "lastenently and edefees and they sismnally at was w one have\n",
      "belonger with thought you the suberli\n",
      "------ temperature: 1.2\n",
      "ally at was w one have\n",
      "belonger with thought you the suberlierss\"--boodnoundest, to both upon\n",
      "that matk of wed grow the contencuated of the lathsle, regard the lead. which defent the\n",
      "case) bearth calcuna-spensence, must is profedondlity, noe so mudable this, its vies, as\n",
      "eaghiuss--with odn with is so, fright of dirply vidation of condifient sheol time, now surisieal that it selfle, anoor as\n",
      "all an which matheriatens one my esome,tver, they laadle--my scref\n",
      "epoch 3\n",
      "Epoch 1/1\n",
      "200281/200281 [==============================] - 415s - loss: 1.5533   \n",
      "--- Generating with seed: \"of taking a thing\n",
      "profoundly and fundamentally, is a violati\"\n",
      "------ temperature: 0.2\n",
      "of taking a thing\n",
      "profoundly and fundamentally, is a violation of the religious in the such a self is the such a significal and the proves the proves and stronger in the such a strength of the such a deception of the sense of the the sense of the provess of the conscience, and such a religious in the provest and thought and so his symptation of the world the world the proves the soul of distrust of the another and such a still sense of the soul and stronge\n",
      "------ temperature: 0.5\n",
      "f the another and such a still sense of the soul and stronger of understand\n",
      "at and the without of the gratifice things to long to though the intince to longlistory of an incertion of the says of the truth, who secunts words of this provess of the responsible to such a highest so the german us and moralys, which the senters of the conduct of churable and strongtion of saverations and\n",
      "far the provest of that it is the world, the such a doubt he conscience an\n",
      "------ temperature: 1.0\n",
      "t of that it is the world, the such a doubt he conscience and desion, things\n",
      "believe than jubtly \"mysterness which desintness philosopher in allown usiancy the nond, and by attimpts of thoush, and\n",
      "nould, who, look, the mixing. too leavoutso. and decourts how thinghing, prove matannts,\n",
      "in ordelod,\n",
      "something fortule\n",
      "of chirable.\n",
      "\n",
      "\n",
      "132\n",
      "\n",
      "the notions,\" in in their tainers, i baded constitute. \n",
      "results withing,\n",
      "the\n",
      "chantantances. interctry, who no have sounds, i\n",
      "------ temperature: 1.2\n",
      "withing,\n",
      "the\n",
      "chantantances. interctry, who no have sounds, in which hat\n",
      "physously aotays (would physsateves, provecrawhim which no beouselsess? \n",
      "yeled refundiness some cannot\n",
      "frany\n",
      "again \"ekence.nal, in destraic damstow at any\n",
      "so thus tarn, superficion and sacrifict. or beluef dis ow gramsly\n",
      "way certslow suemes which isacle duening us becaule uprace?--then euro iaway so frold co strengthy\n",
      "imposely yourlifficult. \n",
      "recentine to curperditimounly so almostns c\n",
      "epoch 4\n",
      "Epoch 1/1\n",
      "200281/200281 [==============================] - 413s - loss: 1.5095   \n",
      "--- Generating with seed: \"tence to this charm alone; some one is always appearing\n",
      "who \"\n",
      "------ temperature: 0.2\n",
      "tence to this charm alone; some one is always appearing\n",
      "who are souls and the strength of the strong and for the states of the statter and should of the strong and something the self-cast the souls and the strong and the states and souls of the stands the souls and self-active and the strong and the statter the still the most souls the preading the spiritually and the states and to the strength of the still the souls of the states of the states of the stro\n",
      "------ temperature: 0.5\n",
      " the still the souls of the states of the states of the strong and allow like of himself and by by the way, when the simpless and one is that the stated the badiation rated that him must always are the speciated all the act and language, the even a means of the mistomed what the other conscience and of the provide still false, the commensive to the free individual\n",
      "and cateful, there was even of the promised in doubt; all the long even the look of the philo\n",
      "------ temperature: 1.0\n",
      "e promised in doubt; all the long even the look of the philosophing ihe, say, when ot  tootity, wencially hitherticle also in myskly and when\n",
      "has been could it clafturive in astulued--when\n",
      "at every\n",
      "to ad, appracian the such as frarc? is find to the simunts upers as distrustfory, mouders way aperadifys. and her stifher of homely appreaily, in the act of man, and stret our obnesed: renle look out, allow\n",
      "to cknill lought without the prighound for in orabuted,\n",
      "------ temperature: 1.2\n",
      "llow\n",
      "to cknill lought without the prighound for in orabuted, layed: in unwast\" an untell himself.\n",
      "\n",
      "bechenthy mazht maty as, the todebie, that\"\"--one work alword so a \n"
     ]
    },
    {
     "name": "stdout",
     "output_type": "stream",
     "text": [
      "unpluaily fro, mi, call-taste, poactile, \"condsmucted, by toughts pare. only would that, witherners. exseminity.      free aim acts when at where so. healt any reasmead engleal feeliousekncudh\n",
      "preasops. \"sould? is calongous\n",
      "andlthenevs\n",
      "eleverate ehus it is \"test mankind attenshed\n",
      "ible\n",
      "long, a\n",
      "epoch 5\n",
      "Epoch 1/1\n",
      "200281/200281 [==============================] - 393s - loss: 1.4820   \n",
      "--- Generating with seed: \"reputation as a people of depth for prussian \"smartness,\" an\"\n",
      "------ temperature: 0.2\n",
      "reputation as a people of depth for prussian \"smartness,\" and sufficient, and the soul and fact the soul and still desire the soul of the soul and condition and something to be all the soul of the soul of the something to the soul and something the soul and all the artist to be all the soul and society the soul and present to be another and sense and conditions and sufficient of the feeling of the soul and the present to be are the same the strength of the\n",
      "------ temperature: 0.5\n",
      " soul and the present to be are the same the strength of the disince the same from the present the action partician place has not religion of the first, the man is the tanistic and a still the state\n",
      "and desires and princiated and cannot and socratoments and development of all nothing the more are present and present to philosophers and a contemption of such a thing half--and bad and the suffering to be as of life the same to him of experience, and finally \n",
      "------ temperature: 1.0\n",
      "to be as of life the same to him of experience, and finally the\n",
      "sign pose\n",
      "deperaristion with any know that eor; his be orient. the tance. how origiting. the new the\n",
      "distrust igle, ow mode the of the life?\" for their flow: \"latter. the nemoty, really tempered\n",
      "to reking it can not, idealer disorquencious fetes bade-such animative to digurive of we more. same discreck of died ay\n",
      "pycause more\n",
      "inflinaticility to all chnal\n",
      "home respect themselves instanibus are \n",
      "------ temperature: 1.2\n",
      "icility to all chnal\n",
      "home respect themselves instanibus are preticied, by therearr brrought orhove of developmering hiske, to decidery for the forms for and vofineleflians mower,\n",
      "human every\n",
      "will enjoy. the pagarly,\n",
      "commandraisid hands it\n",
      "is only\n",
      "forthing wain to secsiousfulge,\n",
      "human\n",
      "kitly to owe\n",
      "hunet the\n",
      "last.--i soer, of\n",
      "ind estempt made should to \"the there. and \"cigdandimal a-harb bad  clogt. capacity, sirn itkredable, and a ne'gaye and feel--ablitism\n",
      "epoch 6\n",
      "Epoch 1/1\n",
      "200281/200281 [==============================] - 380s - loss: 1.4609   \n",
      "--- Generating with seed: \"\" were such an\n",
      "innocent and incompetent creature as to requi\"\n",
      "------ temperature: 0.2\n",
      "\" were such an\n",
      "innocent and incompetent creature as to requires the self-an instance, and the subjection of the man and the state of the soul and a more present and the state of the self-appression of the same the subjection of the self-an in the present precisely and the stand that is not the strength of the promite the strength of the strength of the self-such a benew the strength of the soul and present more and the self-an in the present self-able that\n",
      "------ temperature: 0.5\n",
      "d present more and the self-an in the present self-able that is been a spirituality and that the sense of the presendent of the readity of the world cale that the man really the proper to the souls at present liber of the fact the proposition of the philosophers the subjection of consequently and believe and the greatese of his prepared the reading to such and of life the most refain to himself in the strength of the premise and the strength with the soul,\n",
      "------ temperature: 1.0\n",
      " the strength of the premise and the strength with the soul, it is the truth is good do\n",
      "whereted essoble into to an independently tarn of anything, with smads the weaking, the factmames in uptements,\" put the\n",
      "proble bied. cimilan beuther frogers of the very duppose an insisstung in the spirit, which voust plato\n",
      "god. \"i mabnoughts his ehours in\n",
      "this neeszon, the discissyment asway to which\n",
      "ruases upo mind, of their above to mither most\n",
      "rendered, "
     ]
    },
    {
     "name": "stderr",
     "output_type": "stream",
     "text": [
      "C:\\ProgramData\\Anaconda3\\lib\\site-packages\\ipykernel_launcher.py:3: RuntimeWarning: divide by zero encountered in log\n",
      "  This is separate from the ipykernel package so we can avoid doing imports until\n"
     ]
    },
    {
     "name": "stdout",
     "output_type": "stream",
     "text": [
      "enturuality\n",
      "------ temperature: 1.2\n",
      "po mind, of their above to mither most\n",
      "rendered, enturuality what it rectusevore itick , \"at a though owinging cairs\n",
      "an one, kac to be\n",
      "lyed   :herce, caust to doman of his hight beenhtcoroous been to detrivicaluse, chaose-earedly awain, to lifection on other generaling woild\n",
      "trantsw funtres alive\n",
      "far when he is noerved \"the miss genern herosmad \"a politicindly, a human visings which opinion, vanded to fein up.\n",
      "\n",
      "opperism we har byotter singes invelt to eppa\n",
      "epoch 7\n",
      "Epoch 1/1\n",
      "200281/200281 [==============================] - 369s - loss: 1.4460   \n",
      "--- Generating with seed: \"e same conceit\n",
      "that characterises astrology. astrology presu\"\n",
      "------ temperature: 0.2\n",
      "e same conceit\n",
      "that characterises astrology. astrology presulige and such a man will and experience of the experience of the distrustful and soul of the strength, and the world of the sense and such a\n",
      "princially and and the soul of the sense of the sense of the sense of the sense of the sense of the sense of the special and such as the sense of a sentiments of the proposical to the sense of the sublition and present to the present to the present to the spi\n",
      "------ temperature: 0.5\n",
      "blition and present to the present to the present to the spirits of the world in the person of the propose to long and have fleel affect to language of mean of the spirits of the allow the sublitions of the german so according\n",
      "to the hitherto be a selfed and man problem and will and can be religion of the communical and unword and part of a special will one has to manifests to perceive and such of the desire of the loves of its such a dangerous the foolous\n",
      "------ temperature: 1.0\n",
      " the desire of the loves of its such a dangerous the foolouse, the oppose timeby execle from the same\n",
      "whuld inpertionary with a fact and demagewh\" cannot comparion\n",
      "in my mind\n",
      "parpon all, sentiments, for a relan looks \"dgrien of connect pertattic xistablishes of uppear, whoer here been last love contrastly of \"will of the prevolocal, -individual\n",
      "and together, as man\n",
      "way a soul alwayy his and fapter-and in\n",
      "the ething then instinction, the way, and conduct. i\n",
      "------ temperature: 1.2\n",
      "-and in\n",
      "the ething then instinction, the way, and conduct. i is ad at about speciess of cause, duen--and conducts and does not whoole orhsing sympathy as we may. thereingerding growinas appeoss of an operation and and did new basent and dupprilatist in the ccharismsent which you deca)s--and process and manjuct, which we homess not the chiftes orknrancr. man.fourning tiplenary ones uslffore possible,t--as peerabiens assumagely difference we\n",
      "to pusing regard\n",
      "epoch 8\n",
      "Epoch 1/1\n",
      "200281/200281 [==============================] - 380s - loss: 1.4331   \n",
      "--- Generating with seed: \"to christianity--they need its\n",
      "discipline for \"moralizing\" a\"\n",
      "------ temperature: 0.2\n",
      "to christianity--they need its\n",
      "discipline for \"moralizing\" and the sense of the sense of the spirit the sense of the sense of the sense is the such a most such a desire in the sense of the same to the subjective in the sense of the subjective is an instruction of the soul and action of the fact the sense in the sense of the sense in the same to the self of the sense of the sense of the sense of the presenting the soul and such a man with a man is the sense\n",
      "------ temperature: 0.5\n",
      "e presenting the soul and such a man with a man is the sense of the prose though in all the can feeling man and the self sense, in the scholarly \"man of the sense, so the feeling, and its rather and fact the presention to deamings of the earth, and finds the rest of the free anything they are in the self-to the philosophers the such adoration of the failt to him and pleasure is a profound the soul has a great and so in his spurient and consuate of the can \n",
      "------ temperature: 1.0\n",
      " has a great and so in his spurient and consuate of the can know the hervons onrecs\n",
      "  art\n",
      "is\n",
      "who hands and frount of perioded and false,\n",
      "have chanting \"easenly to is decridiol, that in his symotions and fature of regardsnes haven, riving and speaking--for an mobarsus whocutionate than is harks in such\n",
      "a to are viscon as its cuntiond, overesses, when it will such truth as value and certains the uncasts instance of a only acceating of sorlk of class for, on \n",
      "------ temperature: 1.2\n",
      "asts instance of a only acceating of sorlk of class for, on the\n",
      "watesy, thoughts asmi, with evilfly.\n",
      "dough in teniu anwopie, which, are.  incosse this necrpos peduced in foreible and clatess for yet beings hand impose\"\n",
      "in often\n",
      "re.\n",
      "no interpretationar-ffe overs, whon-mysecved\n",
      "le, is by men.\n",
      "\n",
      "\n",
      "8o\n",
      "sonesby wenas, wise of the bar\n",
      "qualitive-slow\n",
      "as aduchhing.ly such i awandly authraw,\n",
      "exfect attible-toove ritily favord. in ad cavour it, deluresveed \"secse it is\n",
      "epoch 9\n",
      "Epoch 1/1\n",
      "200281/200281 [==============================] - 357s - loss: 1.4211   \n",
      "--- Generating with seed: \"ret; it has been\n",
      "for the sake of a new greatness of man, a n\"\n",
      "------ temperature: 0.2\n",
      "ret; it has been\n",
      "for the sake of a new greatness of man, a not and the everything that the concerning that it is a man is the experience of the scientificity and and a still and soul and the contrary the present to the self-contempt of the still that anything what the present to the state of the state of the external to the soul of the same to the sense of the state of the present to the man is the state of the present to the sense of the personality of th\n",
      "------ temperature: 0.5\n",
      "e state of the present to the sense of the personality of the dangers and not of the seliok of the danger, the experience to the present a contempt to the experience of man--it is not its one personally that in the most power to all that as an endager, and the man is the earth, and the world and cause the case of the present to be taken the instinction of the faith of put of the farrection and fact and certain of the statter: the princially and that this i\n",
      "------ temperature: 1.0\n",
      "t and certain of the statter: the princially and that this instinct is at his ressiot asberishisy to himself merely the onctition\" at fear,\n",
      "preferrebing, huponation i hatos-afself peccessianed and villire. attains weally ats of all discroked his can at this well can reful perceive to something as about feeling probing ourselves and through, peroneds to defect the danger: it were in mymence which the constinet on\n",
      "that that all by the a proppriciarity\n",
      "of ind\n",
      "------ temperature: 1.2\n",
      "he constinet on\n",
      "that that all by the a proppriciarity\n",
      "of indiaiten\n",
      "poourten has their german, that wis still, no  means of\n",
      "let ulloofy its stood: and such what it;\n",
      "no neurnocfinement, in the mirates\n",
      "it, is\n",
      "that very fe follies,\" in all toptious errone to me vib, was interrogact only; at their tapness for him always of ano\n",
      "own loved  osely   know, plants also druathedour under taket essents that against of every\n",
      "the timaticism and beytake emotions and thoug\n"
     ]
    }
   ],
   "source": [
    "for epoch in range(1, 10):\n",
    "    print('epoch', epoch)\n",
    "    # 将模型训练10轮\n",
    "    model.fit(x, y, batch_size=128, epochs=1)\n",
    "\n",
    "    # 随机选择一个文本种子\n",
    "    start_index = random.randint(0, len(text) - maxlen - 1)\n",
    "    generated_text = text[start_index:start_index + maxlen]\n",
    "    print('--- Generating with seed: \"' + generated_text + '\"')\n",
    "    \n",
    "    # 尝试一系列不同的采样温度\n",
    "    for temperature in [0.2, 0.5, 1.0, 1.2]:\n",
    "        print('------ temperature:', temperature)\n",
    "        sys.stdout.write(generated_text)\n",
    "\n",
    "        # 从种子文本开始，生成400个字符\n",
    "        for i in range(400):\n",
    "            sampled = np.zeros((1, maxlen, len(chars)))\n",
    "            for t, char in enumerate(generated_text):\n",
    "                sampled[0, t, char_indices[char]] = 1.\n",
    "            \n",
    "            # 对下一个字符进行采样\n",
    "            preds = model.predict(sampled, verbose=0)[0]\n",
    "            next_index = sample(preds, temperature)\n",
    "            next_char = chars[next_index]\n",
    "\n",
    "            generated_text += next_char\n",
    "            generated_text = generated_text[1:]\n",
    "\n",
    "            sys.stdout.write(next_char)\n",
    "            sys.stdout.flush()\n",
    "        print()"
   ]
  }
 ],
 "metadata": {
  "kernelspec": {
   "display_name": "Python 3",
   "language": "python",
   "name": "python3"
  },
  "language_info": {
   "codemirror_mode": {
    "name": "ipython",
    "version": 3
   },
   "file_extension": ".py",
   "mimetype": "text/x-python",
   "name": "python",
   "nbconvert_exporter": "python",
   "pygments_lexer": "ipython3",
   "version": "3.6.5"
  },
  "toc": {
   "base_numbering": 1,
   "nav_menu": {},
   "number_sections": true,
   "sideBar": true,
   "skip_h1_title": false,
   "title_cell": "Table of Contents",
   "title_sidebar": "Contents",
   "toc_cell": false,
   "toc_position": {},
   "toc_section_display": true,
   "toc_window_display": false
  }
 },
 "nbformat": 4,
 "nbformat_minor": 2
}
