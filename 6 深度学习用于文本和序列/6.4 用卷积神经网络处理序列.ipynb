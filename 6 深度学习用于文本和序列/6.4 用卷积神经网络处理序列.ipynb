{
 "cells": [
  {
   "cell_type": "code",
   "execution_count": 0,
   "metadata": {
    "colab": {
     "base_uri": "https://localhost:8080/",
     "height": 323
    },
    "colab_type": "code",
    "executionInfo": {
     "elapsed": 5222,
     "status": "ok",
     "timestamp": 1582967451978,
     "user": {
      "displayName": "孙兴",
      "photoUrl": "https://lh3.googleusercontent.com/a-/AAuE7mB0_Rv4lGqBXXgknso2sM60PO2lbwh33RMBpb4m=s64",
      "userId": "03581933537367114971"
     },
     "user_tz": -480
    },
    "id": "EJs_fJPlNQD3",
    "outputId": "c3e827e7-7171-40f4-82cd-ab5fdec57abb"
   },
   "outputs": [
    {
     "name": "stdout",
     "output_type": "stream",
     "text": [
      "Sat Feb 29 09:10:47 2020       \n",
      "+-----------------------------------------------------------------------------+\n",
      "| NVIDIA-SMI 440.48.02    Driver Version: 418.67       CUDA Version: 10.1     |\n",
      "|-------------------------------+----------------------+----------------------+\n",
      "| GPU  Name        Persistence-M| Bus-Id        Disp.A | Volatile Uncorr. ECC |\n",
      "| Fan  Temp  Perf  Pwr:Usage/Cap|         Memory-Usage | GPU-Util  Compute M. |\n",
      "|===============================+======================+======================|\n",
      "|   0  Tesla P100-PCIE...  Off  | 00000000:00:04.0 Off |                    0 |\n",
      "| N/A   35C    P0    25W / 250W |      0MiB / 16280MiB |      0%      Default |\n",
      "+-------------------------------+----------------------+----------------------+\n",
      "                                                                               \n",
      "+-----------------------------------------------------------------------------+\n",
      "| Processes:                                                       GPU Memory |\n",
      "|  GPU       PID   Type   Process name                             Usage      |\n",
      "|=============================================================================|\n",
      "|  No running processes found                                                 |\n",
      "+-----------------------------------------------------------------------------+\n"
     ]
    }
   ],
   "source": [
    "!nvidia-smi"
   ]
  },
  {
   "cell_type": "markdown",
   "metadata": {
    "colab_type": "text",
    "id": "laHxprF8bYhk"
   },
   "source": [
    "# 实现一维卷积神经网络"
   ]
  },
  {
   "cell_type": "markdown",
   "metadata": {
    "colab_type": "text",
    "id": "aRs-IhOwbfKo"
   },
   "source": [
    "## 准备IMDB数据集"
   ]
  },
  {
   "cell_type": "code",
   "execution_count": 0,
   "metadata": {
    "colab": {},
    "colab_type": "code",
    "id": "DVGxPOKYbc8k"
   },
   "outputs": [],
   "source": [
    "from keras.datasets import imdb\n",
    "from keras.preprocessing import sequence"
   ]
  },
  {
   "cell_type": "code",
   "execution_count": 0,
   "metadata": {
    "colab": {},
    "colab_type": "code",
    "id": "GwN6wxGXbudc"
   },
   "outputs": [],
   "source": [
    "max_features = 10000\n",
    "max_len = 500"
   ]
  },
  {
   "cell_type": "code",
   "execution_count": 0,
   "metadata": {
    "colab": {
     "base_uri": "https://localhost:8080/",
     "height": 71
    },
    "colab_type": "code",
    "executionInfo": {
     "elapsed": 7100,
     "status": "ok",
     "timestamp": 1582971375519,
     "user": {
      "displayName": "孙兴",
      "photoUrl": "https://lh3.googleusercontent.com/a-/AAuE7mB0_Rv4lGqBXXgknso2sM60PO2lbwh33RMBpb4m=s64",
      "userId": "03581933537367114971"
     },
     "user_tz": -480
    },
    "id": "NDLcI53Bb2fT",
    "outputId": "f6b081fe-2b5b-4a5e-caa3-f48f24949eb0"
   },
   "outputs": [
    {
     "name": "stdout",
     "output_type": "stream",
     "text": [
      "Loading data...\n",
      "25000 train sequences\n",
      "25000 test sequences\n"
     ]
    }
   ],
   "source": [
    "print('Loading data...')\n",
    "(x_train, y_train), (x_test, y_test) = imdb.load_data(num_words=max_features)\n",
    "print(len(x_train), 'train sequences')\n",
    "print(len(x_test), 'test sequences')"
   ]
  },
  {
   "cell_type": "code",
   "execution_count": 0,
   "metadata": {
    "colab": {
     "base_uri": "https://localhost:8080/",
     "height": 71
    },
    "colab_type": "code",
    "executionInfo": {
     "elapsed": 3083,
     "status": "ok",
     "timestamp": 1582971538789,
     "user": {
      "displayName": "孙兴",
      "photoUrl": "https://lh3.googleusercontent.com/a-/AAuE7mB0_Rv4lGqBXXgknso2sM60PO2lbwh33RMBpb4m=s64",
      "userId": "03581933537367114971"
     },
     "user_tz": -480
    },
    "id": "Fxe9PyXIcaxg",
    "outputId": "c6ad6fe0-b10c-49b4-a89a-a093cb10bb70"
   },
   "outputs": [
    {
     "name": "stdout",
     "output_type": "stream",
     "text": [
      "Pad sequences (samples x time)\n",
      "x_train shape: (25000, 500)\n",
      "x_test shape: (25000, 500)\n"
     ]
    }
   ],
   "source": [
    "print('Pad sequences (samples x time)')\n",
    "x_train = sequence.pad_sequences(x_train, maxlen=max_len)\n",
    "x_test = sequence.pad_sequences(x_test, maxlen=max_len)\n",
    "print('x_train shape:', x_train.shape)\n",
    "print('x_test shape:', x_test.shape)"
   ]
  },
  {
   "cell_type": "markdown",
   "metadata": {
    "colab_type": "text",
    "id": "tPlyZYs0dbXY"
   },
   "source": [
    "# 训练"
   ]
  },
  {
   "cell_type": "code",
   "execution_count": 0,
   "metadata": {
    "colab": {},
    "colab_type": "code",
    "id": "raDdYYVLdMA1"
   },
   "outputs": [],
   "source": [
    "from keras.models import Sequential\n",
    "from keras import layers\n",
    "from keras.optimizers import RMSprop"
   ]
  },
  {
   "cell_type": "code",
   "execution_count": 0,
   "metadata": {
    "colab": {
     "base_uri": "https://localhost:8080/",
     "height": 377
    },
    "colab_type": "code",
    "executionInfo": {
     "elapsed": 3120,
     "status": "ok",
     "timestamp": 1582972846992,
     "user": {
      "displayName": "孙兴",
      "photoUrl": "https://lh3.googleusercontent.com/a-/AAuE7mB0_Rv4lGqBXXgknso2sM60PO2lbwh33RMBpb4m=s64",
      "userId": "03581933537367114971"
     },
     "user_tz": -480
    },
    "id": "AmXIrfYfdq5S",
    "outputId": "9511ed92-b186-49d5-a631-b5d638c0931d"
   },
   "outputs": [
    {
     "name": "stdout",
     "output_type": "stream",
     "text": [
      "Model: \"sequential_3\"\n",
      "_________________________________________________________________\n",
      "Layer (type)                 Output Shape              Param #   \n",
      "=================================================================\n",
      "embedding_3 (Embedding)      (None, 500, 128)          1280000   \n",
      "_________________________________________________________________\n",
      "conv1d_5 (Conv1D)            (None, 494, 32)           28704     \n",
      "_________________________________________________________________\n",
      "max_pooling1d_3 (MaxPooling1 (None, 98, 32)            0         \n",
      "_________________________________________________________________\n",
      "conv1d_6 (Conv1D)            (None, 92, 32)            7200      \n",
      "_________________________________________________________________\n",
      "global_max_pooling1d_3 (Glob (None, 32)                0         \n",
      "_________________________________________________________________\n",
      "dense_3 (Dense)              (None, 1)                 33        \n",
      "=================================================================\n",
      "Total params: 1,315,937\n",
      "Trainable params: 1,315,937\n",
      "Non-trainable params: 0\n",
      "_________________________________________________________________\n"
     ]
    }
   ],
   "source": [
    "model = Sequential()\n",
    "model.add(layers.Embedding(input_dim=max_features, output_dim=128, input_length=max_len))\n",
    "model.add(layers.Conv1D(filters=32, kernel_size=7, activation='relu'))\n",
    "model.add(layers.MaxPooling1D(pool_size=5))\n",
    "model.add(layers.Conv1D(filters=32, kernel_size=7, activation='relu'))\n",
    "model.add(layers.GlobalMaxPooling1D())  # 对时间序列的全局最大池化\n",
    "model.add(layers.Dense(units=1))\n",
    "model.summary()"
   ]
  },
  {
   "cell_type": "code",
   "execution_count": 0,
   "metadata": {
    "colab": {},
    "colab_type": "code",
    "id": "wYYm99BKe5Rk"
   },
   "outputs": [],
   "source": [
    "model.compile(optimizer=RMSprop(lr=1e-4), loss='binary_crossentropy', metrics=['acc'])\n"
   ]
  },
  {
   "cell_type": "code",
   "execution_count": 0,
   "metadata": {
    "colab": {
     "base_uri": "https://localhost:8080/",
     "height": 415
    },
    "colab_type": "code",
    "executionInfo": {
     "elapsed": 16167,
     "status": "ok",
     "timestamp": 1582972898601,
     "user": {
      "displayName": "孙兴",
      "photoUrl": "https://lh3.googleusercontent.com/a-/AAuE7mB0_Rv4lGqBXXgknso2sM60PO2lbwh33RMBpb4m=s64",
      "userId": "03581933537367114971"
     },
     "user_tz": -480
    },
    "id": "uJhy9kfpfRUj",
    "outputId": "47cba430-724f-4fe5-ffc1-3045ebafcb95"
   },
   "outputs": [
    {
     "name": "stdout",
     "output_type": "stream",
     "text": [
      "Train on 20000 samples, validate on 5000 samples\n",
      "Epoch 1/10\n",
      "20000/20000 [==============================] - 2s 92us/step - loss: 1.6796 - acc: 0.5032 - val_loss: 0.6888 - val_acc: 0.5414\n",
      "Epoch 2/10\n",
      "20000/20000 [==============================] - 1s 74us/step - loss: 0.6738 - acc: 0.6365 - val_loss: 0.6654 - val_acc: 0.6612\n",
      "Epoch 3/10\n",
      "20000/20000 [==============================] - 1s 74us/step - loss: 0.6295 - acc: 0.7516 - val_loss: 0.6139 - val_acc: 0.7310\n",
      "Epoch 4/10\n",
      "20000/20000 [==============================] - 1s 74us/step - loss: 0.5402 - acc: 0.8059 - val_loss: 0.5003 - val_acc: 0.7982\n",
      "Epoch 5/10\n",
      "20000/20000 [==============================] - 2s 76us/step - loss: 0.4191 - acc: 0.8452 - val_loss: 0.4176 - val_acc: 0.8328\n",
      "Epoch 6/10\n",
      "20000/20000 [==============================] - 1s 72us/step - loss: 0.3553 - acc: 0.8649 - val_loss: 0.4040 - val_acc: 0.8378\n",
      "Epoch 7/10\n",
      "20000/20000 [==============================] - 1s 74us/step - loss: 0.3127 - acc: 0.8623 - val_loss: 0.4021 - val_acc: 0.8370\n",
      "Epoch 8/10\n",
      "20000/20000 [==============================] - 1s 75us/step - loss: 0.2794 - acc: 0.8593 - val_loss: 0.4108 - val_acc: 0.8244\n",
      "Epoch 9/10\n",
      "20000/20000 [==============================] - 1s 74us/step - loss: 0.2552 - acc: 0.8405 - val_loss: 0.4201 - val_acc: 0.8044\n",
      "Epoch 10/10\n",
      "20000/20000 [==============================] - 1s 73us/step - loss: 0.2299 - acc: 0.8223 - val_loss: 0.4578 - val_acc: 0.7700\n"
     ]
    }
   ],
   "source": [
    "history = model.fit(x_train, y_train, epochs=10, batch_size=128, validation_split=0.2)"
   ]
  },
  {
   "cell_type": "markdown",
   "metadata": {
    "colab_type": "text",
    "id": "-l56hwoXhDf6"
   },
   "source": [
    "## 绘制结果"
   ]
  },
  {
   "cell_type": "code",
   "execution_count": 0,
   "metadata": {
    "colab": {},
    "colab_type": "code",
    "id": "OSRYSkGefl3b"
   },
   "outputs": [],
   "source": [
    "from matplotlib import pyplot as plt"
   ]
  },
  {
   "cell_type": "code",
   "execution_count": 0,
   "metadata": {
    "colab": {},
    "colab_type": "code",
    "id": "7Vnn0kIqhF47"
   },
   "outputs": [],
   "source": [
    "acc = history.history['acc']\n",
    "val_acc = history.history['val_acc']\n",
    "loss = history.history['loss']\n",
    "val_loss = history.history['val_loss']"
   ]
  },
  {
   "cell_type": "code",
   "execution_count": 0,
   "metadata": {
    "colab": {},
    "colab_type": "code",
    "id": "_FbUrJM4h5ic"
   },
   "outputs": [],
   "source": [
    "epochs = range(1, len(acc) + 1)"
   ]
  },
  {
   "cell_type": "code",
   "execution_count": 0,
   "metadata": {
    "colab": {
     "base_uri": "https://localhost:8080/",
     "height": 545
    },
    "colab_type": "code",
    "executionInfo": {
     "elapsed": 1642,
     "status": "ok",
     "timestamp": 1582972913336,
     "user": {
      "displayName": "孙兴",
      "photoUrl": "https://lh3.googleusercontent.com/a-/AAuE7mB0_Rv4lGqBXXgknso2sM60PO2lbwh33RMBpb4m=s64",
      "userId": "03581933537367114971"
     },
     "user_tz": -480
    },
    "id": "KIeZjPobhNXs",
    "outputId": "5b7199ad-42fd-4ba6-8fbe-0521c0b081c3"
   },
   "outputs": [
    {
     "data": {
      "image/png": "[encoded data removed]",
      "text/plain": [
       "<Figure size 432x288 with 1 Axes>"
      ]
     },
     "metadata": {
      "tags": []
     },
     "output_type": "display_data"
    },
    {
     "data": {
      "image/png": "[encoded data removed]",
      "text/plain": [
       "<Figure size 432x288 with 1 Axes>"
      ]
     },
     "metadata": {
      "tags": []
     },
     "output_type": "display_data"
    }
   ],
   "source": [
    "plt.plot(epochs, acc, 'bo', label='Training acc')\n",
    "plt.plot(epochs, val_acc, 'b', label='Validation acc')\n",
    "plt.title('Training and Validation accuracy')\n",
    "plt.legend()\n",
    "\n",
    "plt.figure()\n",
    "\n",
    "plt.plot(epochs, loss, 'bo', label='Training loss')\n",
    "plt.plot(epochs, val_loss, 'b', label='Validation loss')\n",
    "plt.title('Training and Validation loss')\n",
    "plt.legend()\n",
    "\n",
    "plt.show()"
   ]
  },
  {
   "cell_type": "markdown",
   "metadata": {
    "colab_type": "text",
    "id": "3-Sjt88rkgR6"
   },
   "source": [
    "# 在jena数据上训练并评估一个简单的一维卷积神经网络"
   ]
  },
  {
   "cell_type": "code",
   "execution_count": 0,
   "metadata": {
    "colab": {},
    "colab_type": "code",
    "id": "zmNBClgZkf0i"
   },
   "outputs": [],
   "source": [
    "import os"
   ]
  },
  {
   "cell_type": "code",
   "execution_count": 0,
   "metadata": {
    "colab": {},
    "colab_type": "code",
    "id": "-hfI77c5hOjx"
   },
   "outputs": [],
   "source": [
    "data_dir = './drive/My Drive/Data/jena'"
   ]
  },
  {
   "cell_type": "code",
   "execution_count": 0,
   "metadata": {
    "colab": {},
    "colab_type": "code",
    "id": "ofcHH0JjkyKa"
   },
   "outputs": [],
   "source": [
    "fname = os.path.join(data_dir, 'jena_climate_2009_2016.csv')"
   ]
  },
  {
   "cell_type": "code",
   "execution_count": 6,
   "metadata": {
    "colab": {
     "base_uri": "https://localhost:8080/",
     "height": 35
    },
    "colab_type": "code",
    "executionInfo": {
     "elapsed": 7864,
     "status": "ok",
     "timestamp": 1583026402408,
     "user": {
      "displayName": "孙兴",
      "photoUrl": "https://lh3.googleusercontent.com/a-/AOh14GgeZsdPA-k88U2O_-fy9miU1qQlHBFQoztkWK2f=s64",
      "userId": "03581933537367114971"
     },
     "user_tz": -480
    },
    "id": "CGsdYY4Rk2DD",
    "outputId": "0c1be05a-3546-4a62-d9e2-fa67320bb29b"
   },
   "outputs": [
    {
     "data": {
      "text/plain": [
       "<function TextIOWrapper.close>"
      ]
     },
     "execution_count": 6,
     "metadata": {
      "tags": []
     },
     "output_type": "execute_result"
    }
   ],
   "source": [
    "f = open(fname)\n",
    "data = f.read()\n",
    "f.close"
   ]
  },
  {
   "cell_type": "code",
   "execution_count": 0,
   "metadata": {
    "colab": {},
    "colab_type": "code",
    "id": "XGNEjZj4k39t"
   },
   "outputs": [],
   "source": [
    "lines = data.split('\\n')\n",
    "header = lines[0].split(',')\n",
    "lines = lines[1:]  # 排除表头"
   ]
  },
  {
   "cell_type": "code",
   "execution_count": 0,
   "metadata": {
    "colab": {},
    "colab_type": "code",
    "id": "Yitp63skk6gb"
   },
   "outputs": [],
   "source": [
    "import numpy as np"
   ]
  },
  {
   "cell_type": "code",
   "execution_count": 0,
   "metadata": {
    "colab": {},
    "colab_type": "code",
    "id": "CQVUnpXfk83a"
   },
   "outputs": [],
   "source": [
    "float_data = np.zeros((len(lines), len(header) - 1))\n",
    "for i, line in enumerate(lines):\n",
    "    values = [float(x) for x in line.split(',')[1:]]\n",
    "    float_data[i, :] = values"
   ]
  },
  {
   "cell_type": "code",
   "execution_count": 0,
   "metadata": {
    "colab": {},
    "colab_type": "code",
    "id": "8KAp-6Xkk-pS"
   },
   "outputs": [],
   "source": [
    "mean = float_data[:200000].mean(axis=0)\n",
    "float_data -= mean\n",
    "std = float_data[:200000].std(axis=0)\n",
    "float_data /= std"
   ]
  },
  {
   "cell_type": "code",
   "execution_count": 0,
   "metadata": {
    "colab": {},
    "colab_type": "code",
    "id": "xozMYkqSlBBP"
   },
   "outputs": [],
   "source": [
    "def generator(data, lookback, delay, min_index, max_index, shuffle=False, batch_size=128, step=6):\n",
    "    if max_index is None:\n",
    "        max_index = len(data) - delay - 1\n",
    "    i = min_index + lookback\n",
    "    while 1:\n",
    "        if shuffle:\n",
    "            rows = np.random.randint(min_index + lookback, max_index, size=batch_size)\n",
    "        else:\n",
    "            if i + batch_size >= max_index:\n",
    "                i = min_index + lookback\n",
    "            rows = np.arange(i, min(i + batch_size, max_index))\n",
    "            i += len(rows)\n",
    "        \n",
    "        samples = np.zeros((len(rows), lookback // step, data.shape[-1]))\n",
    "        targets = np.zeros((len(rows),))\n",
    "        for j, row in enumerate(rows):\n",
    "            indices = range(rows[j] - lookback, rows[j], step)\n",
    "            samples[j] = data[indices]\n",
    "            targets[j] = data[rows[j] + delay][1]\n",
    "        yield samples, targets"
   ]
  },
  {
   "cell_type": "code",
   "execution_count": 0,
   "metadata": {
    "colab": {},
    "colab_type": "code",
    "id": "LqPQ534klDfY"
   },
   "outputs": [],
   "source": [
    "lookback = 1440\n",
    "step = 6\n",
    "delay = 144\n",
    "batch_size = 128"
   ]
  },
  {
   "cell_type": "code",
   "execution_count": 0,
   "metadata": {
    "colab": {},
    "colab_type": "code",
    "id": "AbQWXvWqlF3I"
   },
   "outputs": [],
   "source": [
    "train_gen = generator(data=float_data, lookback=lookback, delay=delay, min_index=0, max_index=200000, shuffle=True, step=step, batch_size=batch_size)\n",
    "val_gen = generator(data=float_data, lookback=lookback, delay=delay, min_index=200001, max_index=300000, step=step, batch_size=batch_size)\n",
    "test_gen = generator(data=float_data, lookback=lookback, delay=delay, min_index=300001, max_index=None, step=step, batch_size=batch_size)\n",
    "val_steps = (300000 - 200001 - lookback) // batch_size\n",
    "test_steps = (len(float_data) - 300001 - lookback) // batch_size"
   ]
  },
  {
   "cell_type": "code",
   "execution_count": 0,
   "metadata": {
    "colab": {},
    "colab_type": "code",
    "id": "MVGWGPxAlHlj"
   },
   "outputs": [],
   "source": [
    "from keras.models import Sequential\n",
    "from keras import layers\n",
    "from keras.optimizers import RMSprop"
   ]
  },
  {
   "cell_type": "code",
   "execution_count": 0,
   "metadata": {
    "colab": {
     "base_uri": "https://localhost:8080/",
     "height": 413
    },
    "colab_type": "code",
    "executionInfo": {
     "elapsed": 2045,
     "status": "ok",
     "timestamp": 1582974016182,
     "user": {
      "displayName": "孙兴",
      "photoUrl": "https://lh3.googleusercontent.com/a-/AAuE7mB0_Rv4lGqBXXgknso2sM60PO2lbwh33RMBpb4m=s64",
      "userId": "03581933537367114971"
     },
     "user_tz": -480
    },
    "id": "gw11kRddlNsu",
    "outputId": "d539e23f-701d-49a0-b4d9-6da415e86d1c"
   },
   "outputs": [
    {
     "name": "stdout",
     "output_type": "stream",
     "text": [
      "Model: \"sequential_4\"\n",
      "_________________________________________________________________\n",
      "Layer (type)                 Output Shape              Param #   \n",
      "=================================================================\n",
      "conv1d_7 (Conv1D)            (None, None, 32)          2272      \n",
      "_________________________________________________________________\n",
      "max_pooling1d_4 (MaxPooling1 (None, None, 32)          0         \n",
      "_________________________________________________________________\n",
      "conv1d_8 (Conv1D)            (None, None, 32)          5152      \n",
      "_________________________________________________________________\n",
      "max_pooling1d_5 (MaxPooling1 (None, None, 32)          0         \n",
      "_________________________________________________________________\n",
      "conv1d_9 (Conv1D)            (None, None, 32)          5152      \n",
      "_________________________________________________________________\n",
      "global_max_pooling1d_4 (Glob (None, 32)                0         \n",
      "_________________________________________________________________\n",
      "dense_4 (Dense)              (None, 1)                 33        \n",
      "=================================================================\n",
      "Total params: 12,609\n",
      "Trainable params: 12,609\n",
      "Non-trainable params: 0\n",
      "_________________________________________________________________\n"
     ]
    }
   ],
   "source": [
    "model = Sequential()\n",
    "model.add(layers.Conv1D(filters=32, kernel_size=5, activation='relu', input_shape=(None, float_data.shape[-1])))\n",
    "model.add(layers.MaxPooling1D(pool_size=3))\n",
    "model.add(layers.Conv1D(filters=32, kernel_size=5, activation='relu'))\n",
    "model.add(layers.MaxPooling1D(pool_size=3))\n",
    "model.add(layers.Conv1D(filters=32, kernel_size=5, activation='relu'))\n",
    "model.add(layers.GlobalMaxPooling1D())\n",
    "model.add(layers.Dense(units=1))\n",
    "model.summary()"
   ]
  },
  {
   "cell_type": "code",
   "execution_count": 0,
   "metadata": {
    "colab": {},
    "colab_type": "code",
    "id": "5rTq7NImmpJK"
   },
   "outputs": [],
   "source": [
    "model.compile(optimizer=RMSprop(), loss='mae')"
   ]
  },
  {
   "cell_type": "code",
   "execution_count": 0,
   "metadata": {
    "colab": {
     "base_uri": "https://localhost:8080/",
     "height": 737
    },
    "colab_type": "code",
    "executionInfo": {
     "elapsed": 256526,
     "status": "ok",
     "timestamp": 1582974455767,
     "user": {
      "displayName": "孙兴",
      "photoUrl": "https://lh3.googleusercontent.com/a-/AAuE7mB0_Rv4lGqBXXgknso2sM60PO2lbwh33RMBpb4m=s64",
      "userId": "03581933537367114971"
     },
     "user_tz": -480
    },
    "id": "ihEq53W_m2yE",
    "outputId": "0d886148-450b-4866-a720-dd4389c45a4d"
   },
   "outputs": [
    {
     "name": "stdout",
     "output_type": "stream",
     "text": [
      "Epoch 1/20\n",
      "500/500 [==============================] - 13s 27ms/step - loss: 0.4176 - val_loss: 0.4619\n",
      "Epoch 2/20\n",
      "500/500 [==============================] - 13s 26ms/step - loss: 0.3600 - val_loss: 0.4583\n",
      "Epoch 3/20\n",
      "500/500 [==============================] - 13s 26ms/step - loss: 0.3335 - val_loss: 0.4432\n",
      "Epoch 4/20\n",
      "500/500 [==============================] - 13s 26ms/step - loss: 0.3163 - val_loss: 0.4616\n",
      "Epoch 5/20\n",
      "500/500 [==============================] - 14s 27ms/step - loss: 0.3031 - val_loss: 0.4492\n",
      "Epoch 6/20\n",
      "500/500 [==============================] - 13s 26ms/step - loss: 0.2948 - val_loss: 0.4554\n",
      "Epoch 7/20\n",
      "500/500 [==============================] - 13s 26ms/step - loss: 0.2881 - val_loss: 0.4507\n",
      "Epoch 8/20\n",
      "500/500 [==============================] - 13s 25ms/step - loss: 0.2798 - val_loss: 0.4621\n",
      "Epoch 9/20\n",
      "500/500 [==============================] - 13s 25ms/step - loss: 0.2756 - val_loss: 0.4602\n",
      "Epoch 10/20\n",
      "500/500 [==============================] - 13s 25ms/step - loss: 0.2688 - val_loss: 0.4680\n",
      "Epoch 11/20\n",
      "500/500 [==============================] - 13s 26ms/step - loss: 0.2644 - val_loss: 0.4639\n",
      "Epoch 12/20\n",
      "500/500 [==============================] - 13s 25ms/step - loss: 0.2604 - val_loss: 0.4557\n",
      "Epoch 13/20\n",
      "500/500 [==============================] - 13s 25ms/step - loss: 0.2562 - val_loss: 0.4696\n",
      "Epoch 14/20\n",
      "500/500 [==============================] - 12s 25ms/step - loss: 0.2537 - val_loss: 0.4591\n",
      "Epoch 15/20\n",
      "500/500 [==============================] - 12s 25ms/step - loss: 0.2490 - val_loss: 0.4851\n",
      "Epoch 16/20\n",
      "500/500 [==============================] - 12s 25ms/step - loss: 0.2478 - val_loss: 0.4681\n",
      "Epoch 17/20\n",
      "500/500 [==============================] - 12s 25ms/step - loss: 0.2438 - val_loss: 0.4614\n",
      "Epoch 18/20\n",
      "500/500 [==============================] - 13s 25ms/step - loss: 0.2421 - val_loss: 0.4972\n",
      "Epoch 19/20\n",
      "500/500 [==============================] - 12s 25ms/step - loss: 0.2401 - val_loss: 0.4591\n",
      "Epoch 20/20\n",
      "500/500 [==============================] - 12s 25ms/step - loss: 0.2388 - val_loss: 0.4486\n"
     ]
    }
   ],
   "source": [
    "history = model.fit_generator(generator=train_gen, steps_per_epoch=500, epochs=20, validation_data=val_gen, validation_steps=val_steps)"
   ]
  },
  {
   "cell_type": "markdown",
   "metadata": {
    "colab_type": "text",
    "id": "vvYC_SPK9TbW"
   },
   "source": [
    "## 绘制结果"
   ]
  },
  {
   "cell_type": "code",
   "execution_count": 0,
   "metadata": {
    "colab": {},
    "colab_type": "code",
    "id": "LaBHT2v84iFB"
   },
   "outputs": [],
   "source": [
    "loss = history.history['loss']\n",
    "val_loss = history.history['val_loss']"
   ]
  },
  {
   "cell_type": "code",
   "execution_count": 0,
   "metadata": {
    "colab": {},
    "colab_type": "code",
    "id": "CCCw5AdL9hCO"
   },
   "outputs": [],
   "source": [
    "epochs = range(1, len(loss) + 1)"
   ]
  },
  {
   "cell_type": "code",
   "execution_count": 0,
   "metadata": {
    "colab": {
     "base_uri": "https://localhost:8080/",
     "height": 281
    },
    "colab_type": "code",
    "executionInfo": {
     "elapsed": 2837,
     "status": "ok",
     "timestamp": 1582980250145,
     "user": {
      "displayName": "孙兴",
      "photoUrl": "https://lh3.googleusercontent.com/a-/AAuE7mB0_Rv4lGqBXXgknso2sM60PO2lbwh33RMBpb4m=s64",
      "userId": "03581933537367114971"
     },
     "user_tz": -480
    },
    "id": "Fu3gMOey9mKI",
    "outputId": "fef7276b-711f-46c3-c6cc-12ab9916f54d"
   },
   "outputs": [
    {
     "data": {
      "image/png": "[encoded data removed]",
      "text/plain": [
       "<Figure size 432x288 with 1 Axes>"
      ]
     },
     "metadata": {
      "tags": []
     },
     "output_type": "display_data"
    }
   ],
   "source": [
    "plt.plot(epochs, loss, 'bo', label='Training loss')\n",
    "plt.plot(epochs, val_loss, 'b', label='Validation loss')\n",
    "plt.title('Training and Validation loss')\n",
    "plt.legend()\n",
    "plt.show()"
   ]
  },
  {
   "cell_type": "markdown",
   "metadata": {
    "colab_type": "text",
    "id": "iIZ67-V8_B7l"
   },
   "source": [
    "## 准备更高分辨率的数据生成器"
   ]
  },
  {
   "cell_type": "code",
   "execution_count": 0,
   "metadata": {
    "colab": {},
    "colab_type": "code",
    "id": "Ibo0TS-C-nOQ"
   },
   "outputs": [],
   "source": [
    "step = 3\n",
    "lookback = 720\n",
    "delay = 144"
   ]
  },
  {
   "cell_type": "code",
   "execution_count": 0,
   "metadata": {
    "colab": {},
    "colab_type": "code",
    "id": "c9pEfB0Q_Tkr"
   },
   "outputs": [],
   "source": [
    "train_gen = generator(data=float_data, lookback=lookback, delay=delay, min_index=0, max_index=200000, shuffle=True, step=step)"
   ]
  },
  {
   "cell_type": "code",
   "execution_count": 0,
   "metadata": {
    "colab": {},
    "colab_type": "code",
    "id": "ecdb5_0Z_riT"
   },
   "outputs": [],
   "source": [
    "val_gen = generator(data=float_data, lookback=lookback, delay=delay, min_index=200001, max_index=300000, step=step)"
   ]
  },
  {
   "cell_type": "code",
   "execution_count": 0,
   "metadata": {
    "colab": {},
    "colab_type": "code",
    "id": "6ZHtHWcR_2nV"
   },
   "outputs": [],
   "source": [
    "test_gen = generator(data=float_data, lookback=lookback, delay=delay, min_index=300001, max_index=None, step=step)"
   ]
  },
  {
   "cell_type": "code",
   "execution_count": 0,
   "metadata": {
    "colab": {},
    "colab_type": "code",
    "id": "UkIDk6XW__bW"
   },
   "outputs": [],
   "source": [
    "val_steps = (300000 - 200001 - lookback) // 128\n",
    "test_steps = (len(float_data) - 300001 - lookback) // 128"
   ]
  },
  {
   "cell_type": "markdown",
   "metadata": {
    "colab_type": "text",
    "id": "ulYxVzc9M1kG"
   },
   "source": [
    "# 结合一维卷积层和GRU层的模型"
   ]
  },
  {
   "cell_type": "code",
   "execution_count": 0,
   "metadata": {
    "colab": {},
    "colab_type": "code",
    "id": "VxMyC_DSAQUO"
   },
   "outputs": [],
   "source": [
    "from keras.models import Sequential\n",
    "from keras import layers\n",
    "from keras.optimizers import RMSprop"
   ]
  },
  {
   "cell_type": "code",
   "execution_count": 13,
   "metadata": {
    "colab": {
     "base_uri": "https://localhost:8080/",
     "height": 559
    },
    "colab_type": "code",
    "executionInfo": {
     "elapsed": 1036,
     "status": "ok",
     "timestamp": 1583026416620,
     "user": {
      "displayName": "孙兴",
      "photoUrl": "https://lh3.googleusercontent.com/a-/AOh14GgeZsdPA-k88U2O_-fy9miU1qQlHBFQoztkWK2f=s64",
      "userId": "03581933537367114971"
     },
     "user_tz": -480
    },
    "id": "f-8I-sOqNBJR",
    "outputId": "ee3d0cf0-183a-4027-af83-26521363dd1c"
   },
   "outputs": [
    {
     "name": "stdout",
     "output_type": "stream",
     "text": [
      "WARNING:tensorflow:From /usr/local/lib/python3.6/dist-packages/keras/backend/tensorflow_backend.py:541: The name tf.placeholder is deprecated. Please use tf.compat.v1.placeholder instead.\n",
      "\n",
      "WARNING:tensorflow:From /usr/local/lib/python3.6/dist-packages/keras/backend/tensorflow_backend.py:4432: The name tf.random_uniform is deprecated. Please use tf.random.uniform instead.\n",
      "\n",
      "WARNING:tensorflow:From /usr/local/lib/python3.6/dist-packages/keras/backend/tensorflow_backend.py:4267: The name tf.nn.max_pool is deprecated. Please use tf.nn.max_pool2d instead.\n",
      "\n",
      "WARNING:tensorflow:From /usr/local/lib/python3.6/dist-packages/keras/backend/tensorflow_backend.py:148: The name tf.placeholder_with_default is deprecated. Please use tf.compat.v1.placeholder_with_default instead.\n",
      "\n",
      "WARNING:tensorflow:From /usr/local/lib/python3.6/dist-packages/keras/backend/tensorflow_backend.py:3733: calling dropout (from tensorflow.python.ops.nn_ops) with keep_prob is deprecated and will be removed in a future version.\n",
      "Instructions for updating:\n",
      "Please use `rate` instead of `keep_prob`. Rate should be set to `rate = 1 - keep_prob`.\n",
      "Model: \"sequential_2\"\n",
      "_________________________________________________________________\n",
      "Layer (type)                 Output Shape              Param #   \n",
      "=================================================================\n",
      "conv1d_1 (Conv1D)            (None, None, 32)          2272      \n",
      "_________________________________________________________________\n",
      "max_pooling1d_1 (MaxPooling1 (None, None, 32)          0         \n",
      "_________________________________________________________________\n",
      "conv1d_2 (Conv1D)            (None, None, 32)          5152      \n",
      "_________________________________________________________________\n",
      "gru_1 (GRU)                  (None, 32)                6240      \n",
      "_________________________________________________________________\n",
      "dense_1 (Dense)              (None, 1)                 33        \n",
      "=================================================================\n",
      "Total params: 13,697\n",
      "Trainable params: 13,697\n",
      "Non-trainable params: 0\n",
      "_________________________________________________________________\n"
     ]
    }
   ],
   "source": [
    "model = Sequential()\n",
    "model.add(layers.Conv1D(filters=32, kernel_size=5, activation='relu', input_shape=(None, float_data.shape[-1])))\n",
    "model.add(layers.MaxPooling1D(pool_size=3))\n",
    "model.add(layers.Conv1D(filters=32, kernel_size=5, activation='relu'))\n",
    "model.add(layers.GRU(units=32, dropout=0.1, recurrent_dropout=0.5))\n",
    "model.add(layers.Dense(units=1))\n",
    "model.summary()"
   ]
  },
  {
   "cell_type": "code",
   "execution_count": 14,
   "metadata": {
    "colab": {
     "base_uri": "https://localhost:8080/",
     "height": 73
    },
    "colab_type": "code",
    "executionInfo": {
     "elapsed": 1830,
     "status": "ok",
     "timestamp": 1583026422882,
     "user": {
      "displayName": "孙兴",
      "photoUrl": "https://lh3.googleusercontent.com/a-/AOh14GgeZsdPA-k88U2O_-fy9miU1qQlHBFQoztkWK2f=s64",
      "userId": "03581933537367114971"
     },
     "user_tz": -480
    },
    "id": "31lL3utaOPZP",
    "outputId": "e9966f0d-c9d4-4a22-80f2-c898a95f8529"
   },
   "outputs": [
    {
     "name": "stdout",
     "output_type": "stream",
     "text": [
      "WARNING:tensorflow:From /usr/local/lib/python3.6/dist-packages/keras/optimizers.py:793: The name tf.train.Optimizer is deprecated. Please use tf.compat.v1.train.Optimizer instead.\n",
      "\n"
     ]
    }
   ],
   "source": [
    "model.compile(optimizer=RMSprop(), loss='mse')"
   ]
  },
  {
   "cell_type": "code",
   "execution_count": 21,
   "metadata": {
    "colab": {
     "base_uri": "https://localhost:8080/",
     "height": 1000
    },
    "colab_type": "code",
    "executionInfo": {
     "elapsed": 1337203,
     "status": "ok",
     "timestamp": 1583027785345,
     "user": {
      "displayName": "孙兴",
      "photoUrl": "https://lh3.googleusercontent.com/a-/AOh14GgeZsdPA-k88U2O_-fy9miU1qQlHBFQoztkWK2f=s64",
      "userId": "03581933537367114971"
     },
     "user_tz": -480
    },
    "id": "fySqTmE-OyK9",
    "outputId": "5753fb9a-2208-45d0-936a-15d0f259c9d1"
   },
   "outputs": [
    {
     "name": "stdout",
     "output_type": "stream",
     "text": [
      "WARNING:tensorflow:From /usr/local/lib/python3.6/dist-packages/tensorflow_core/python/ops/math_grad.py:1424: where (from tensorflow.python.ops.array_ops) is deprecated and will be removed in a future version.\n",
      "Instructions for updating:\n",
      "Use tf.where in 2.0, which has the same broadcast rule as np.where\n",
      "WARNING:tensorflow:From /usr/local/lib/python3.6/dist-packages/keras/backend/tensorflow_backend.py:1033: The name tf.assign_add is deprecated. Please use tf.compat.v1.assign_add instead.\n",
      "\n",
      "WARNING:tensorflow:From /usr/local/lib/python3.6/dist-packages/keras/backend/tensorflow_backend.py:1020: The name tf.assign is deprecated. Please use tf.compat.v1.assign instead.\n",
      "\n",
      "WARNING:tensorflow:From /usr/local/lib/python3.6/dist-packages/keras/backend/tensorflow_backend.py:3005: The name tf.Session is deprecated. Please use tf.compat.v1.Session instead.\n",
      "\n",
      "Epoch 1/20\n",
      "WARNING:tensorflow:From /usr/local/lib/python3.6/dist-packages/keras/backend/tensorflow_backend.py:190: The name tf.get_default_session is deprecated. Please use tf.compat.v1.get_default_session instead.\n",
      "\n",
      "WARNING:tensorflow:From /usr/local/lib/python3.6/dist-packages/keras/backend/tensorflow_backend.py:197: The name tf.ConfigProto is deprecated. Please use tf.compat.v1.ConfigProto instead.\n",
      "\n",
      "WARNING:tensorflow:From /usr/local/lib/python3.6/dist-packages/keras/backend/tensorflow_backend.py:207: The name tf.global_variables is deprecated. Please use tf.compat.v1.global_variables instead.\n",
      "\n",
      "WARNING:tensorflow:From /usr/local/lib/python3.6/dist-packages/keras/backend/tensorflow_backend.py:216: The name tf.is_variable_initialized is deprecated. Please use tf.compat.v1.is_variable_initialized instead.\n",
      "\n",
      "WARNING:tensorflow:From /usr/local/lib/python3.6/dist-packages/keras/backend/tensorflow_backend.py:223: The name tf.variables_initializer is deprecated. Please use tf.compat.v1.variables_initializer instead.\n",
      "\n",
      "500/500 [==============================] - 80s 161ms/step - loss: 0.1814 - val_loss: 0.1284\n",
      "Epoch 2/20\n",
      "500/500 [==============================] - 65s 129ms/step - loss: 0.1500 - val_loss: 0.1230\n",
      "Epoch 3/20\n",
      "500/500 [==============================] - 65s 131ms/step - loss: 0.1380 - val_loss: 0.1190\n",
      "Epoch 4/20\n",
      "500/500 [==============================] - 67s 134ms/step - loss: 0.1303 - val_loss: 0.1193\n",
      "Epoch 5/20\n",
      "500/500 [==============================] - 70s 140ms/step - loss: 0.1227 - val_loss: 0.1213\n",
      "Epoch 6/20\n",
      "500/500 [==============================] - 70s 140ms/step - loss: 0.1184 - val_loss: 0.1275\n",
      "Epoch 7/20\n",
      "500/500 [==============================] - 68s 137ms/step - loss: 0.1124 - val_loss: 0.1265\n",
      "Epoch 8/20\n",
      "500/500 [==============================] - 66s 132ms/step - loss: 0.1082 - val_loss: 0.1338\n",
      "Epoch 9/20\n",
      "500/500 [==============================] - 66s 132ms/step - loss: 0.1061 - val_loss: 0.1421\n",
      "Epoch 10/20\n",
      "500/500 [==============================] - 65s 130ms/step - loss: 0.1015 - val_loss: 0.1360\n",
      "Epoch 11/20\n",
      "500/500 [==============================] - 64s 129ms/step - loss: 0.0972 - val_loss: 0.1325\n",
      "Epoch 12/20\n",
      "500/500 [==============================] - 65s 131ms/step - loss: 0.0939 - val_loss: 0.1416\n",
      "Epoch 13/20\n",
      "500/500 [==============================] - 65s 130ms/step - loss: 0.0917 - val_loss: 0.1345\n",
      "Epoch 14/20\n",
      "500/500 [==============================] - 65s 130ms/step - loss: 0.0897 - val_loss: 0.1434\n",
      "Epoch 15/20\n",
      "500/500 [==============================] - 67s 133ms/step - loss: 0.0879 - val_loss: 0.1413\n",
      "Epoch 16/20\n",
      "500/500 [==============================] - 65s 130ms/step - loss: 0.0850 - val_loss: 0.1481\n",
      "Epoch 17/20\n",
      "500/500 [==============================] - 66s 133ms/step - loss: 0.0833 - val_loss: 0.1410\n",
      "Epoch 18/20\n",
      "500/500 [==============================] - 65s 131ms/step - loss: 0.0821 - val_loss: 0.1516\n",
      "Epoch 19/20\n",
      "500/500 [==============================] - 64s 129ms/step - loss: 0.0791 - val_loss: 0.1513\n",
      "Epoch 20/20\n",
      "500/500 [==============================] - 64s 129ms/step - loss: 0.0784 - val_loss: 0.1482\n"
     ]
    }
   ],
   "source": [
    "history = model.fit_generator(generator=train_gen, steps_per_epoch=500, epochs=20, validation_data=val_gen, validation_steps=val_steps)"
   ]
  },
  {
   "cell_type": "markdown",
   "metadata": {
    "colab_type": "text",
    "id": "jkXEGOWo4mIQ"
   },
   "source": [
    "### 绘制结果"
   ]
  },
  {
   "cell_type": "code",
   "execution_count": 0,
   "metadata": {
    "colab": {},
    "colab_type": "code",
    "id": "-z6z3A4P4qUs"
   },
   "outputs": [],
   "source": [
    "from matplotlib import pyplot as plt"
   ]
  },
  {
   "cell_type": "code",
   "execution_count": 24,
   "metadata": {
    "colab": {
     "base_uri": "https://localhost:8080/",
     "height": 281
    },
    "colab_type": "code",
    "executionInfo": {
     "elapsed": 1445,
     "status": "ok",
     "timestamp": 1583029103678,
     "user": {
      "displayName": "孙兴",
      "photoUrl": "https://lh3.googleusercontent.com/a-/AOh14GgeZsdPA-k88U2O_-fy9miU1qQlHBFQoztkWK2f=s64",
      "userId": "03581933537367114971"
     },
     "user_tz": -480
    },
    "id": "nv7TOLV-PGD5",
    "outputId": "aa9e7b9b-9ce8-40bd-b359-9f589bd70b04"
   },
   "outputs": [
    {
     "data": {
      "image/png": "[encoded data removed]",
      "text/plain": [
       "<Figure size 432x288 with 1 Axes>"
      ]
     },
     "metadata": {
      "tags": []
     },
     "output_type": "display_data"
    }
   ],
   "source": [
    "loss = history.history['loss']\n",
    "val_loss = history.history['val_loss']\n",
    "\n",
    "epochs = range(1, len(loss) + 1)\n",
    "\n",
    "plt.figure()\n",
    "plt.plot(epochs, loss, 'bo', label='Training loss')\n",
    "plt.plot(epochs, val_loss, 'b', label='Validation loss')\n",
    "plt.title('Training and Validation loss')\n",
    "plt.legend()\n",
    "plt.show()"
   ]
  },
  {
   "cell_type": "code",
   "execution_count": 0,
   "metadata": {
    "colab": {},
    "colab_type": "code",
    "id": "XFkWBqmW4oq2"
   },
   "outputs": [],
   "source": [
    "# 效果不如只用正则化GRU，但是训练速度要快得多"
   ]
  }
 ],
 "metadata": {
  "accelerator": "GPU",
  "colab": {
   "authorship_tag": "ABX9TyOx7MeHvJVrRkQl974mdN2F",
   "collapsed_sections": [],
   "mount_file_id": "1BDi584OmPrKmxspjMg7hi_fg6iTpPKc_",
   "name": "6.4 用卷积神经网络处理序列.ipynb",
   "provenance": []
  },
  "kernelspec": {
   "display_name": "Python 3",
   "language": "python",
   "name": "python3"
  },
  "language_info": {
   "codemirror_mode": {
    "name": "ipython",
    "version": 3
   },
   "file_extension": ".py",
   "mimetype": "text/x-python",
   "name": "python",
   "nbconvert_exporter": "python",
   "pygments_lexer": "ipython3",
   "version": "3.6.5"
  },
  "toc": {
   "base_numbering": 1,
   "nav_menu": {},
   "number_sections": true,
   "sideBar": true,
   "skip_h1_title": false,
   "title_cell": "Table of Contents",
   "title_sidebar": "Contents",
   "toc_cell": false,
   "toc_position": {},
   "toc_section_display": true,
   "toc_window_display": false
  }
 },
 "nbformat": 4,
 "nbformat_minor": 1
}
