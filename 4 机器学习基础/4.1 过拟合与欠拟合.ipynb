{
 "cells": [
  {
   "cell_type": "markdown",
   "metadata": {},
   "source": [
    "# 原始模型"
   ]
  },
  {
   "cell_type": "code",
   "execution_count": 2,
   "metadata": {},
   "outputs": [],
   "source": [
    "from keras.datasets import imdb\n",
    "import numpy as np"
   ]
  },
  {
   "cell_type": "code",
   "execution_count": 9,
   "metadata": {},
   "outputs": [],
   "source": [
    "# num_words要和dimension一致"
   ]
  },
  {
   "cell_type": "code",
   "execution_count": 6,
   "metadata": {},
   "outputs": [],
   "source": [
    "(train_data, train_labels), (test_data, test_labels) = imdb.load_data(num_words=10000)"
   ]
  },
  {
   "cell_type": "code",
   "execution_count": 7,
   "metadata": {},
   "outputs": [],
   "source": [
    "def vectorize_sequences(sequences, dimension=10000):\n",
    "    results = np.zeros((len(sequences), dimension))\n",
    "    for i, sequences in enumerate(sequences):\n",
    "        results[i, sequences] = 1.\n",
    "    return results"
   ]
  },
  {
   "cell_type": "code",
   "execution_count": 8,
   "metadata": {},
   "outputs": [],
   "source": [
    "x_train = vectorize_sequences(train_data)\n",
    "x_test = vectorize_sequences(test_data)"
   ]
  },
  {
   "cell_type": "code",
   "execution_count": 11,
   "metadata": {},
   "outputs": [],
   "source": [
    "# 标签向量化，asarray将结构数据转换为ndarray，np.asarry会占用新的内存，np.asarray不会"
   ]
  },
  {
   "cell_type": "code",
   "execution_count": 13,
   "metadata": {},
   "outputs": [],
   "source": [
    "y_train = np.asarray(train_labels).astype('float32')\n",
    "y_test = np.asarray(test_labels).astype('float32')"
   ]
  },
  {
   "cell_type": "code",
   "execution_count": 14,
   "metadata": {},
   "outputs": [],
   "source": [
    "from keras import layers\n",
    "from keras import models"
   ]
  },
  {
   "cell_type": "code",
   "execution_count": 17,
   "metadata": {},
   "outputs": [],
   "source": [
    "original_model = models.Sequential()\n",
    "original_model.add(layers.Dense(units=16, activation='relu', input_shape=(10000,)))\n",
    "original_model.add(layers.Dense(units=16, activation='relu'))\n",
    "original_model.add(layers.Dense(units=1, activation='sigmoid'))  # 二分类问题，输出的是一个概率值"
   ]
  },
  {
   "cell_type": "code",
   "execution_count": 18,
   "metadata": {},
   "outputs": [],
   "source": [
    "original_model.compile(optimizer='rmsprop', loss='binary_crossentropy', metrics=['acc'])"
   ]
  },
  {
   "cell_type": "markdown",
   "metadata": {},
   "source": [
    "# 容量更小的模型"
   ]
  },
  {
   "cell_type": "code",
   "execution_count": 25,
   "metadata": {},
   "outputs": [],
   "source": [
    "smaller_model = models.Sequential()\n",
    "smaller_model.add(layers.Dense(units=4, activation='relu', input_shape=(10000,)))\n",
    "smaller_model.add(layers.Dense(units=4, activation='relu'))\n",
    "smaller_model.add(layers.Dense(units=1, activation='sigmoid'))"
   ]
  },
  {
   "cell_type": "code",
   "execution_count": 26,
   "metadata": {},
   "outputs": [],
   "source": [
    "smaller_model.compile(optimizer='rmsprop', loss='binary_crossentropy', metrics=['acc'])"
   ]
  },
  {
   "cell_type": "markdown",
   "metadata": {},
   "source": [
    "# 训练"
   ]
  },
  {
   "cell_type": "code",
   "execution_count": 27,
   "metadata": {},
   "outputs": [
    {
     "name": "stdout",
     "output_type": "stream",
     "text": [
      "Train on 25000 samples, validate on 25000 samples\n",
      "Epoch 1/20\n",
      "25000/25000 [==============================] - 13s - loss: 0.4425 - acc: 0.8205 - val_loss: 0.3354 - val_acc: 0.8782\n",
      "Epoch 2/20\n",
      "25000/25000 [==============================] - 11s - loss: 0.2557 - acc: 0.9114 - val_loss: 0.2829 - val_acc: 0.8912\n",
      "Epoch 3/20\n",
      "25000/25000 [==============================] - 6s - loss: 0.1979 - acc: 0.9300 - val_loss: 0.2892 - val_acc: 0.8844\n",
      "Epoch 4/20\n",
      "25000/25000 [==============================] - 5s - loss: 0.1667 - acc: 0.9402 - val_loss: 0.2929 - val_acc: 0.8843\n",
      "Epoch 5/20\n",
      "25000/25000 [==============================] - 5s - loss: 0.1444 - acc: 0.9498 - val_loss: 0.3314 - val_acc: 0.8727\n",
      "Epoch 6/20\n",
      "25000/25000 [==============================] - 5s - loss: 0.1250 - acc: 0.9568 - val_loss: 0.3636 - val_acc: 0.8666\n",
      "Epoch 7/20\n",
      "25000/25000 [==============================] - 6s - loss: 0.1087 - acc: 0.9629 - val_loss: 0.3531 - val_acc: 0.8734\n",
      "Epoch 8/20\n",
      "25000/25000 [==============================] - 6s - loss: 0.0955 - acc: 0.9673 - val_loss: 0.3814 - val_acc: 0.8698\n",
      "Epoch 9/20\n",
      "25000/25000 [==============================] - 5s - loss: 0.0839 - acc: 0.9726 - val_loss: 0.4067 - val_acc: 0.8686\n",
      "Epoch 10/20\n",
      "25000/25000 [==============================] - 6s - loss: 0.0743 - acc: 0.9762 - val_loss: 0.4320 - val_acc: 0.8656\n",
      "Epoch 11/20\n",
      "25000/25000 [==============================] - 5s - loss: 0.0621 - acc: 0.9809 - val_loss: 0.4638 - val_acc: 0.8637\n",
      "Epoch 12/20\n",
      "25000/25000 [==============================] - 5s - loss: 0.0555 - acc: 0.9832 - val_loss: 0.4915 - val_acc: 0.8609\n",
      "Epoch 13/20\n",
      "25000/25000 [==============================] - 6s - loss: 0.0450 - acc: 0.9868 - val_loss: 0.5256 - val_acc: 0.8590\n",
      "Epoch 14/20\n",
      "25000/25000 [==============================] - 6s - loss: 0.0381 - acc: 0.9899 - val_loss: 0.6245 - val_acc: 0.8474\n",
      "Epoch 15/20\n",
      "25000/25000 [==============================] - 6s - loss: 0.0316 - acc: 0.9925 - val_loss: 0.6018 - val_acc: 0.8543\n",
      "Epoch 16/20\n",
      "25000/25000 [==============================] - 6s - loss: 0.0280 - acc: 0.9930 - val_loss: 0.6303 - val_acc: 0.8556\n",
      "Epoch 17/20\n",
      "25000/25000 [==============================] - 8s - loss: 0.0219 - acc: 0.9944 - val_loss: 0.6777 - val_acc: 0.8528\n",
      "Epoch 18/20\n",
      "25000/25000 [==============================] - 6s - loss: 0.0170 - acc: 0.9964 - val_loss: 0.7213 - val_acc: 0.8514\n",
      "Epoch 19/20\n",
      "25000/25000 [==============================] - 8s - loss: 0.0153 - acc: 0.9967 - val_loss: 0.7536 - val_acc: 0.8522\n",
      "Epoch 20/20\n",
      "25000/25000 [==============================] - 6s - loss: 0.0105 - acc: 0.9981 - val_loss: 0.8098 - val_acc: 0.8498\n"
     ]
    }
   ],
   "source": [
    "original_hist = original_model.fit(x_train, y_train, epochs=20, batch_size=512, validation_data=(x_test, y_test))"
   ]
  },
  {
   "cell_type": "code",
   "execution_count": 28,
   "metadata": {},
   "outputs": [
    {
     "name": "stdout",
     "output_type": "stream",
     "text": [
      "Train on 25000 samples, validate on 25000 samples\n",
      "Epoch 1/20\n",
      "25000/25000 [==============================] - 6s - loss: 0.6040 - acc: 0.7631 - val_loss: 0.5357 - val_acc: 0.8339\n",
      "Epoch 2/20\n",
      "25000/25000 [==============================] - 5s - loss: 0.4600 - acc: 0.8724 - val_loss: 0.4254 - val_acc: 0.8684\n",
      "Epoch 3/20\n",
      "25000/25000 [==============================] - 5s - loss: 0.3509 - acc: 0.8978 - val_loss: 0.3495 - val_acc: 0.8809\n",
      "Epoch 4/20\n",
      "25000/25000 [==============================] - 6s - loss: 0.2780 - acc: 0.9147 - val_loss: 0.3100 - val_acc: 0.8865\n",
      "Epoch 5/20\n",
      "25000/25000 [==============================] - 6s - loss: 0.2331 - acc: 0.9256 - val_loss: 0.2905 - val_acc: 0.8884\n",
      "Epoch 6/20\n",
      "25000/25000 [==============================] - 6s - loss: 0.2040 - acc: 0.9328 - val_loss: 0.2818 - val_acc: 0.8894\n",
      "Epoch 7/20\n",
      "25000/25000 [==============================] - 6s - loss: 0.1829 - acc: 0.9399 - val_loss: 0.2812 - val_acc: 0.8879\n",
      "Epoch 8/20\n",
      "25000/25000 [==============================] - 6s - loss: 0.1661 - acc: 0.9455 - val_loss: 0.2844 - val_acc: 0.8877\n",
      "Epoch 9/20\n",
      "25000/25000 [==============================] - 5s - loss: 0.1527 - acc: 0.9505 - val_loss: 0.2886 - val_acc: 0.8869\n",
      "Epoch 10/20\n",
      "25000/25000 [==============================] - 6s - loss: 0.1418 - acc: 0.9545 - val_loss: 0.2962 - val_acc: 0.8848\n",
      "Epoch 11/20\n",
      "25000/25000 [==============================] - 6s - loss: 0.1324 - acc: 0.9573 - val_loss: 0.3049 - val_acc: 0.8825\n",
      "Epoch 12/20\n",
      "25000/25000 [==============================] - 5s - loss: 0.1235 - acc: 0.9614 - val_loss: 0.3174 - val_acc: 0.8802\n",
      "Epoch 13/20\n",
      "25000/25000 [==============================] - 5s - loss: 0.1161 - acc: 0.9636 - val_loss: 0.3270 - val_acc: 0.8783\n",
      "Epoch 14/20\n",
      "25000/25000 [==============================] - 5s - loss: 0.1088 - acc: 0.9662 - val_loss: 0.3371 - val_acc: 0.8768\n",
      "Epoch 15/20\n",
      "25000/25000 [==============================] - 5s - loss: 0.1021 - acc: 0.9697 - val_loss: 0.3505 - val_acc: 0.8748\n",
      "Epoch 16/20\n",
      "25000/25000 [==============================] - 5s - loss: 0.0962 - acc: 0.9711 - val_loss: 0.3712 - val_acc: 0.8709\n",
      "Epoch 17/20\n",
      "25000/25000 [==============================] - 5s - loss: 0.0908 - acc: 0.9722 - val_loss: 0.3837 - val_acc: 0.8705\n",
      "Epoch 18/20\n",
      "25000/25000 [==============================] - 5s - loss: 0.0854 - acc: 0.9751 - val_loss: 0.3893 - val_acc: 0.8706\n",
      "Epoch 19/20\n",
      "25000/25000 [==============================] - 5s - loss: 0.0804 - acc: 0.9771 - val_loss: 0.4024 - val_acc: 0.8693\n",
      "Epoch 20/20\n",
      "25000/25000 [==============================] - 5s - loss: 0.0754 - acc: 0.9788 - val_loss: 0.4166 - val_acc: 0.8670\n"
     ]
    }
   ],
   "source": [
    "smaller_model_hist = smaller_model.fit(x_train, y_train, epochs=20, batch_size=512, validation_data=(x_test, y_test))"
   ]
  },
  {
   "cell_type": "code",
   "execution_count": 30,
   "metadata": {},
   "outputs": [],
   "source": [
    "epochs = range(1, 21)\n",
    "original_val_loss = original_hist.history['val_loss']\n",
    "smaller_mdoel_val_loss = smaller_model_hist.history['val_loss']"
   ]
  },
  {
   "cell_type": "code",
   "execution_count": 31,
   "metadata": {},
   "outputs": [],
   "source": [
    "import matplotlib.pyplot as plt"
   ]
  },
  {
   "cell_type": "code",
   "execution_count": 32,
   "metadata": {},
   "outputs": [
    {
     "data": {
      "image/png": "[encoded data removed]",
      "text/plain": [
       "<Figure size 432x288 with 1 Axes>"
      ]
     },
     "metadata": {},
     "output_type": "display_data"
    }
   ],
   "source": [
    "plt.plot(epochs, original_val_loss, 'b+', label='Original model')\n",
    "plt.plot(epochs, smaller_mdoel_val_loss, 'bo', label='Smaller model')\n",
    "plt.xlabel('Epochs')\n",
    "plt.ylabel('Validation loss')\n",
    "plt.legend()\n",
    "plt.show()"
   ]
  },
  {
   "cell_type": "code",
   "execution_count": 33,
   "metadata": {},
   "outputs": [],
   "source": [
    "# 更小的网络 开始过拟合的时间要晚于参考网络，而且开始过拟合后，它的性能变差的速度也更慢"
   ]
  },
  {
   "cell_type": "markdown",
   "metadata": {},
   "source": [
    "# 容量更大的模型"
   ]
  },
  {
   "cell_type": "code",
   "execution_count": 35,
   "metadata": {},
   "outputs": [],
   "source": [
    "bigger_model = models.Sequential()\n",
    "bigger_model.add(layers.Dense(units=512, activation='relu', input_shape=(10000,)))\n",
    "bigger_model.add(layers.Dense(units=512, activation='relu'))\n",
    "bigger_model.add(layers.Dense(units=1, activation='sigmoid'))"
   ]
  },
  {
   "cell_type": "code",
   "execution_count": 37,
   "metadata": {},
   "outputs": [],
   "source": [
    "bigger_model.compile(optimizer='rmsprop', loss='binary_crossentropy', metrics=['acc'])"
   ]
  },
  {
   "cell_type": "code",
   "execution_count": 38,
   "metadata": {},
   "outputs": [
    {
     "name": "stdout",
     "output_type": "stream",
     "text": [
      "Train on 25000 samples, validate on 25000 samples\n",
      "Epoch 1/20\n",
      "25000/25000 [==============================] - 25s - loss: 0.4656 - acc: 0.7936 - val_loss: 0.3973 - val_acc: 0.8261\n",
      "Epoch 2/20\n",
      "25000/25000 [==============================] - 22s - loss: 0.2201 - acc: 0.9132 - val_loss: 0.2826 - val_acc: 0.8861\n",
      "Epoch 3/20\n",
      "25000/25000 [==============================] - 22s - loss: 0.1340 - acc: 0.9508 - val_loss: 0.3274 - val_acc: 0.8828\n",
      "Epoch 4/20\n",
      "25000/25000 [==============================] - 23s - loss: 0.0699 - acc: 0.9785 - val_loss: 1.0518 - val_acc: 0.7496\n",
      "Epoch 5/20\n",
      "25000/25000 [==============================] - 22s - loss: 0.0630 - acc: 0.9862 - val_loss: 0.4220 - val_acc: 0.8827\n",
      "Epoch 6/20\n",
      "25000/25000 [==============================] - 22s - loss: 0.0032 - acc: 0.9997 - val_loss: 0.6788 - val_acc: 0.8809\n",
      "Epoch 7/20\n",
      "25000/25000 [==============================] - 23s - loss: 0.0807 - acc: 0.9878 - val_loss: 0.6090 - val_acc: 0.8804\n",
      "Epoch 8/20\n",
      "25000/25000 [==============================] - 26s - loss: 0.0504 - acc: 0.9922 - val_loss: 1.1371 - val_acc: 0.8062\n",
      "Epoch 9/20\n",
      "25000/25000 [==============================] - 27s - loss: 0.0033 - acc: 0.9994 - val_loss: 0.6886 - val_acc: 0.8791\n",
      "Epoch 10/20\n",
      "25000/25000 [==============================] - 23s - loss: 0.0948 - acc: 0.9885 - val_loss: 0.7170 - val_acc: 0.8727\n",
      "Epoch 11/20\n",
      "25000/25000 [==============================] - 22s - loss: 2.6750e-04 - acc: 1.0000 - val_loss: 0.7995 - val_acc: 0.8794\n",
      "Epoch 12/20\n",
      "25000/25000 [==============================] - 23s - loss: 6.6632e-05 - acc: 1.0000 - val_loss: 0.8964 - val_acc: 0.8782\n",
      "Epoch 13/20\n",
      "25000/25000 [==============================] - 22s - loss: 0.0813 - acc: 0.9920 - val_loss: 0.8904 - val_acc: 0.8772\n",
      "Epoch 14/20\n",
      "25000/25000 [==============================] - 24s - loss: 0.0373 - acc: 0.9940 - val_loss: 0.7845 - val_acc: 0.8782\n",
      "Epoch 15/20\n",
      "25000/25000 [==============================] - 23s - loss: 6.8404e-05 - acc: 1.0000 - val_loss: 0.8509 - val_acc: 0.8790\n",
      "Epoch 16/20\n",
      "25000/25000 [==============================] - 23s - loss: 1.7764e-05 - acc: 1.0000 - val_loss: 0.9472 - val_acc: 0.8777\n",
      "Epoch 17/20\n",
      "25000/25000 [==============================] - 22s - loss: 2.5688e-06 - acc: 1.0000 - val_loss: 1.0290 - val_acc: 0.8775\n",
      "Epoch 18/20\n",
      "25000/25000 [==============================] - 22s - loss: 0.0729 - acc: 0.9917 - val_loss: 0.9590 - val_acc: 0.8712\n",
      "Epoch 19/20\n",
      "25000/25000 [==============================] - 22s - loss: 0.0437 - acc: 0.9939 - val_loss: 0.9262 - val_acc: 0.8639\n",
      "Epoch 20/20\n",
      "25000/25000 [==============================] - 23s - loss: 0.0013 - acc: 0.9998 - val_loss: 0.9024 - val_acc: 0.8695\n"
     ]
    }
   ],
   "source": [
    "bigger_model_hist = bigger_model.fit(x_train, y_train, epochs=20, batch_size=512, validation_data=(x_test, y_test))"
   ]
  },
  {
   "cell_type": "code",
   "execution_count": 39,
   "metadata": {},
   "outputs": [],
   "source": [
    "bigger_model_val_loss = bigger_model_hist.history['val_loss']"
   ]
  },
  {
   "cell_type": "code",
   "execution_count": 40,
   "metadata": {},
   "outputs": [
    {
     "data": {
      "image/png": "[encoded data removed]",
      "text/plain": [
       "<Figure size 432x288 with 1 Axes>"
      ]
     },
     "metadata": {},
     "output_type": "display_data"
    }
   ],
   "source": [
    "plt.plot(epochs, original_val_loss, 'b+', label='Original model')\n",
    "plt.plot(epochs, bigger_model_val_loss, 'bo', label='Bigger model')\n",
    "plt.xlabel('Epochs')\n",
    "plt.ylabel('Validation loss')\n",
    "plt.legend()\n",
    "plt.show()"
   ]
  },
  {
   "cell_type": "code",
   "execution_count": 41,
   "metadata": {},
   "outputs": [],
   "source": [
    "# 比较训练损失"
   ]
  },
  {
   "cell_type": "code",
   "execution_count": 42,
   "metadata": {},
   "outputs": [],
   "source": [
    "original_train_loss = original_hist.history['loss']\n",
    "bigger_model_train_loss = bigger_model_hist.history['loss']"
   ]
  },
  {
   "cell_type": "code",
   "execution_count": 43,
   "metadata": {},
   "outputs": [
    {
     "data": {
      "image/png": "[encoded data removed]",
      "text/plain": [
       "<Figure size 432x288 with 1 Axes>"
      ]
     },
     "metadata": {},
     "output_type": "display_data"
    }
   ],
   "source": [
    "plt.plot(epochs, original_train_loss, 'b+', label='Original model')\n",
    "plt.plot(epochs, bigger_model_train_loss, 'bo', label='Bigger model')\n",
    "plt.xlabel('Epochs')\n",
    "plt.ylabel('Training loss')\n",
    "plt.legend()\n",
    "plt.show()"
   ]
  },
  {
   "cell_type": "markdown",
   "metadata": {},
   "source": [
    "# 添加权重正则化"
   ]
  },
  {
   "cell_type": "code",
   "execution_count": 44,
   "metadata": {},
   "outputs": [],
   "source": [
    "from keras import regularizers"
   ]
  },
  {
   "cell_type": "code",
   "execution_count": 45,
   "metadata": {},
   "outputs": [],
   "source": [
    "l2_model = models.Sequential()\n",
    "l2_model.add(layers.Dense(units=16, kernel_regularizer=regularizers.l2(0.001), activation='relu', input_shape=(10000,)))\n",
    "l2_model.add(layers.Dense(units=16, kernel_regularizer=regularizers.l2(0.001), activation='relu'))\n",
    "l2_model.add(layers.Dense(units=1, activation='sigmoid'))"
   ]
  },
  {
   "cell_type": "code",
   "execution_count": 46,
   "metadata": {},
   "outputs": [],
   "source": [
    "l2_model.compile(optimizer='rmsprop', loss='binary_crossentropy', metrics=['acc'])"
   ]
  },
  {
   "cell_type": "code",
   "execution_count": 47,
   "metadata": {},
   "outputs": [
    {
     "name": "stdout",
     "output_type": "stream",
     "text": [
      "Train on 25000 samples, validate on 25000 samples\n",
      "Epoch 1/20\n",
      "25000/25000 [==============================] - 11s - loss: 0.4779 - acc: 0.8297 - val_loss: 0.3873 - val_acc: 0.8747\n",
      "Epoch 2/20\n",
      "25000/25000 [==============================] - 10s - loss: 0.3125 - acc: 0.9065 - val_loss: 0.3345 - val_acc: 0.8893\n",
      "Epoch 3/20\n",
      "25000/25000 [==============================] - 6s - loss: 0.2710 - acc: 0.9196 - val_loss: 0.3337 - val_acc: 0.8886\n",
      "Epoch 4/20\n",
      "25000/25000 [==============================] - 5s - loss: 0.2513 - acc: 0.9276 - val_loss: 0.3388 - val_acc: 0.8862\n",
      "Epoch 5/20\n",
      "25000/25000 [==============================] - 5s - loss: 0.2390 - acc: 0.9338 - val_loss: 0.3509 - val_acc: 0.8808\n",
      "Epoch 6/20\n",
      "25000/25000 [==============================] - 5s - loss: 0.2308 - acc: 0.9373 - val_loss: 0.3588 - val_acc: 0.8780\n",
      "Epoch 7/20\n",
      "25000/25000 [==============================] - 5s - loss: 0.2237 - acc: 0.9396 - val_loss: 0.3685 - val_acc: 0.8786\n",
      "Epoch 8/20\n",
      "25000/25000 [==============================] - 5s - loss: 0.2193 - acc: 0.9402 - val_loss: 0.3669 - val_acc: 0.8778\n",
      "Epoch 9/20\n",
      "25000/25000 [==============================] - 5s - loss: 0.2138 - acc: 0.9446 - val_loss: 0.3755 - val_acc: 0.8750\n",
      "Epoch 10/20\n",
      "25000/25000 [==============================] - 5s - loss: 0.2091 - acc: 0.9463 - val_loss: 0.4352 - val_acc: 0.8564\n",
      "Epoch 11/20\n",
      "25000/25000 [==============================] - 5s - loss: 0.2052 - acc: 0.9475 - val_loss: 0.3912 - val_acc: 0.8719\n",
      "Epoch 12/20\n",
      "25000/25000 [==============================] - 5s - loss: 0.2023 - acc: 0.9472 - val_loss: 0.3923 - val_acc: 0.8721\n",
      "Epoch 13/20\n",
      "25000/25000 [==============================] - 5s - loss: 0.2005 - acc: 0.9481 - val_loss: 0.4103 - val_acc: 0.8714\n",
      "Epoch 14/20\n",
      "25000/25000 [==============================] - 5s - loss: 0.1940 - acc: 0.9525 - val_loss: 0.4395 - val_acc: 0.8581\n",
      "Epoch 15/20\n",
      "25000/25000 [==============================] - 5s - loss: 0.1925 - acc: 0.9519 - val_loss: 0.4217 - val_acc: 0.8711\n",
      "Epoch 16/20\n",
      "25000/25000 [==============================] - 5s - loss: 0.1929 - acc: 0.9522 - val_loss: 0.4852 - val_acc: 0.8440\n",
      "Epoch 17/20\n",
      "25000/25000 [==============================] - 5s - loss: 0.1876 - acc: 0.9548 - val_loss: 0.4188 - val_acc: 0.8727\n",
      "Epoch 18/20\n",
      "25000/25000 [==============================] - 5s - loss: 0.1788 - acc: 0.9590 - val_loss: 0.4910 - val_acc: 0.84580.9\n",
      "Epoch 19/20\n",
      "25000/25000 [==============================] - 5s - loss: 0.1870 - acc: 0.9540 - val_loss: 0.4217 - val_acc: 0.8717\n",
      "Epoch 20/20\n",
      "25000/25000 [==============================] - 5s - loss: 0.1812 - acc: 0.9577 - val_loss: 0.4357 - val_acc: 0.8702\n"
     ]
    }
   ],
   "source": [
    "l2_model_hist = l2_model.fit(x_train, y_train, epochs=20, batch_size=512, validation_data=(x_test, y_test))"
   ]
  },
  {
   "cell_type": "code",
   "execution_count": 48,
   "metadata": {},
   "outputs": [],
   "source": [
    "l2_model_val_loss = l2_model_hist.history['val_loss']"
   ]
  },
  {
   "cell_type": "code",
   "execution_count": 49,
   "metadata": {},
   "outputs": [
    {
     "data": {
      "image/png": "[encoded data removed]",
      "text/plain": [
       "<Figure size 432x288 with 1 Axes>"
      ]
     },
     "metadata": {},
     "output_type": "display_data"
    }
   ],
   "source": [
    "plt.plot(epochs, original_val_loss, 'b+', label='Original model')\n",
    "plt.plot(epochs, l2_model_val_loss, 'bo', label='L2-regularized model')\n",
    "plt.xlabel('Epochs')\n",
    "plt.ylabel('Validation loss')\n",
    "plt.legend()\n",
    "plt.show()"
   ]
  },
  {
   "cell_type": "markdown",
   "metadata": {},
   "source": [
    "# 向IMDB网络中添加Dropout层"
   ]
  },
  {
   "cell_type": "code",
   "execution_count": 54,
   "metadata": {},
   "outputs": [],
   "source": [
    "dpt_model = models.Sequential()\n",
    "dpt_model.add(layers.Dense(units=16, activation='relu', input_shape=(10000,)))\n",
    "dpt_model.add(layers.Dropout(0.5))\n",
    "dpt_model.add(layers.Dense(units=16, activation='relu'))\n",
    "dpt_model.add(layers.Dropout(0.5))\n",
    "dpt_model.add(layers.Dense(units=1, activation='sigmoid'))"
   ]
  },
  {
   "cell_type": "code",
   "execution_count": 55,
   "metadata": {},
   "outputs": [],
   "source": [
    "dpt_model.compile(optimizer='rmsprop', loss='binary_crossentropy', metrics=['acc'])"
   ]
  },
  {
   "cell_type": "code",
   "execution_count": 57,
   "metadata": {},
   "outputs": [
    {
     "name": "stdout",
     "output_type": "stream",
     "text": [
      "Train on 25000 samples, validate on 25000 samples\n",
      "Epoch 1/20\n",
      "25000/25000 [==============================] - 12s - loss: 0.5967 - acc: 0.6829 - val_loss: 0.4478 - val_acc: 0.8605\n",
      "Epoch 2/20\n",
      "25000/25000 [==============================] - 6s - loss: 0.4533 - acc: 0.8075 - val_loss: 0.3532 - val_acc: 0.8818\n",
      "Epoch 3/20\n",
      "25000/25000 [==============================] - 6s - loss: 0.3623 - acc: 0.8602 - val_loss: 0.2979 - val_acc: 0.8868\n",
      "Epoch 4/20\n",
      "25000/25000 [==============================] - 6s - loss: 0.3067 - acc: 0.8901 - val_loss: 0.2782 - val_acc: 0.8894\n",
      "Epoch 5/20\n",
      "25000/25000 [==============================] - 6s - loss: 0.2644 - acc: 0.9076 - val_loss: 0.2797 - val_acc: 0.8892\n",
      "Epoch 6/20\n",
      "25000/25000 [==============================] - 6s - loss: 0.2379 - acc: 0.9189 - val_loss: 0.2888 - val_acc: 0.8884\n",
      "Epoch 7/20\n",
      "25000/25000 [==============================] - 6s - loss: 0.2063 - acc: 0.9299 - val_loss: 0.3129 - val_acc: 0.8836\n",
      "Epoch 8/20\n",
      "25000/25000 [==============================] - 6s - loss: 0.1898 - acc: 0.9344 - val_loss: 0.3302 - val_acc: 0.8854\n",
      "Epoch 9/20\n",
      "25000/25000 [==============================] - 6s - loss: 0.1778 - acc: 0.9384 - val_loss: 0.3362 - val_acc: 0.8855\n",
      "Epoch 10/20\n",
      "25000/25000 [==============================] - 6s - loss: 0.1672 - acc: 0.9426 - val_loss: 0.3620 - val_acc: 0.8803\n",
      "Epoch 11/20\n",
      "25000/25000 [==============================] - 6s - loss: 0.1530 - acc: 0.9463 - val_loss: 0.3822 - val_acc: 0.8815\n",
      "Epoch 12/20\n",
      "25000/25000 [==============================] - 6s - loss: 0.1472 - acc: 0.9474 - val_loss: 0.4130 - val_acc: 0.8800\n",
      "Epoch 13/20\n",
      "25000/25000 [==============================] - 6s - loss: 0.1436 - acc: 0.9508 - val_loss: 0.4264 - val_acc: 0.8805\n",
      "Epoch 14/20\n",
      "25000/25000 [==============================] - 6s - loss: 0.1340 - acc: 0.9508 - val_loss: 0.4380 - val_acc: 0.8790\n",
      "Epoch 15/20\n",
      "25000/25000 [==============================] - 6s - loss: 0.1295 - acc: 0.9522 - val_loss: 0.4679 - val_acc: 0.8776\n",
      "Epoch 16/20\n",
      "25000/25000 [==============================] - 7s - loss: 0.1256 - acc: 0.9541 - val_loss: 0.4847 - val_acc: 0.8743\n",
      "Epoch 17/20\n",
      "25000/25000 [==============================] - 6s - loss: 0.1233 - acc: 0.9546 - val_loss: 0.4950 - val_acc: 0.8754\n",
      "Epoch 18/20\n",
      "25000/25000 [==============================] - 6s - loss: 0.1180 - acc: 0.9548 - val_loss: 0.5299 - val_acc: 0.8760\n",
      "Epoch 19/20\n",
      "25000/25000 [==============================] - 6s - loss: 0.1172 - acc: 0.9552 - val_loss: 0.5591 - val_acc: 0.8764\n",
      "Epoch 20/20\n",
      "25000/25000 [==============================] - 6s - loss: 0.1170 - acc: 0.9560 - val_loss: 0.5301 - val_acc: 0.8719\n"
     ]
    }
   ],
   "source": [
    "dpt_model_hist = dpt_model.fit(x_train, y_train, epochs=20, batch_size=512, validation_data=(x_test, y_test))"
   ]
  },
  {
   "cell_type": "code",
   "execution_count": 58,
   "metadata": {},
   "outputs": [],
   "source": [
    "dpt_model_val_loss = dpt_model_hist.history['val_loss']"
   ]
  },
  {
   "cell_type": "code",
   "execution_count": 59,
   "metadata": {},
   "outputs": [
    {
     "data": {
      "image/png": "[encoded data removed]",
      "text/plain": [
       "<Figure size 432x288 with 1 Axes>"
      ]
     },
     "metadata": {},
     "output_type": "display_data"
    }
   ],
   "source": [
    "plt.plot(epochs, original_val_loss, 'b+', label='Original model')\n",
    "plt.plot(epochs, dpt_model_val_loss, 'bo', label='Dropout-regularized model')\n",
    "plt.xlabel('Epochs')\n",
    "plt.ylabel('Validation loss')\n",
    "plt.legend()\n",
    "plt.show()"
   ]
  }
 ],
 "metadata": {
  "kernelspec": {
   "display_name": "Python 3",
   "language": "python",
   "name": "python3"
  },
  "language_info": {
   "codemirror_mode": {
    "name": "ipython",
    "version": 3
   },
   "file_extension": ".py",
   "mimetype": "text/x-python",
   "name": "python",
   "nbconvert_exporter": "python",
   "pygments_lexer": "ipython3",
   "version": "3.6.5"
  },
  "toc": {
   "base_numbering": 1,
   "nav_menu": {},
   "number_sections": true,
   "sideBar": true,
   "skip_h1_title": false,
   "title_cell": "Table of Contents",
   "title_sidebar": "Contents",
   "toc_cell": false,
   "toc_position": {},
   "toc_section_display": true,
   "toc_window_display": false
  }
 },
 "nbformat": 4,
 "nbformat_minor": 2
}
