{
 "cells": [
  {
   "cell_type": "markdown",
   "metadata": {},
   "source": [
    "# 训练过程中奖回调函数作用于模型"
   ]
  },
  {
   "cell_type": "markdown",
   "metadata": {},
   "source": [
    "## ModelCheckpoint与EarlyStopping回调函数"
   ]
  },
  {
   "cell_type": "code",
   "execution_count": 1,
   "metadata": {},
   "outputs": [
    {
     "name": "stderr",
     "output_type": "stream",
     "text": [
      "Using TensorFlow backend.\n"
     ]
    }
   ],
   "source": [
    "import keras"
   ]
  },
  {
   "cell_type": "code",
   "execution_count": 2,
   "metadata": {},
   "outputs": [],
   "source": [
    "callback_list = [\n",
    "    keras.callbacks.EarlyStopping(monitor='acc, patience=1'),\n",
    "    keras.callbacks.ModelCheckpoint(filepath='my_model.h5', monitor='val_loss', save_best_only=True)\n",
    "]"
   ]
  },
  {
   "cell_type": "code",
   "execution_count": 3,
   "metadata": {},
   "outputs": [
    {
     "data": {
      "text/plain": [
       "[<keras.callbacks.EarlyStopping at 0x193e7761908>,\n",
       " <keras.callbacks.ModelCheckpoint at 0x193e77611d0>]"
      ]
     },
     "execution_count": 3,
     "metadata": {},
     "output_type": "execute_result"
    }
   ],
   "source": [
    "callback_list"
   ]
  },
  {
   "cell_type": "code",
   "execution_count": 4,
   "metadata": {},
   "outputs": [],
   "source": [
    "model.compile(optimizer='rmsprop', loss='binary_crossentropy', metrics=['acc'])"
   ]
  },
  {
   "cell_type": "code",
   "execution_count": 5,
   "metadata": {},
   "outputs": [],
   "source": [
    "model.fit(x, y, epochs=10, batch_size=32, callbacks=callback_list, validation_data=(x_val, y_val))"
   ]
  },
  {
   "cell_type": "markdown",
   "metadata": {},
   "source": [
    "## ReduceLROnPlateau回调函数"
   ]
  },
  {
   "cell_type": "code",
   "execution_count": 6,
   "metadata": {},
   "outputs": [],
   "source": [
    "# 如果验证损失不再改善，可以使用这个回调函数来降低学习率"
   ]
  },
  {
   "cell_type": "code",
   "execution_count": 7,
   "metadata": {},
   "outputs": [],
   "source": [
    "callback_list = [\n",
    "    keras.callbacks.ReduceLROnPlateau(monitor='val_loss', factor=0.1, patience=10)\n",
    "]"
   ]
  },
  {
   "cell_type": "code",
   "execution_count": 8,
   "metadata": {},
   "outputs": [],
   "source": [
    "model.fit(x, y, epochs=10, batch_size=32, callbacks=callback_list, validation_data=(x_val, y_val))"
   ]
  },
  {
   "cell_type": "markdown",
   "metadata": {},
   "source": [
    "## 编写自己的回调函数"
   ]
  },
  {
   "cell_type": "code",
   "execution_count": 9,
   "metadata": {},
   "outputs": [],
   "source": [
    "import keras\n",
    "import numpy as np"
   ]
  },
  {
   "cell_type": "code",
   "execution_count": 10,
   "metadata": {},
   "outputs": [],
   "source": [
    "class ActivationLogger(keras.callbacks.Callback):\n",
    "    def set_model(self, model):\n",
    "        self.model = model\n",
    "        layer_outputs = [layer.output for layer in model.layers]\n",
    "        self.activations_model = keras.models.Model(model.input, layer_outputs)\n",
    "\n",
    "    def on_epoch_end(self, epoch, logs=None):\n",
    "        if self.validation_data is None:\n",
    "            raise RuntimeError('Requires validation_data.')\n",
    "        validation_sample = self.validation_data[0][0:1]\n",
    "        activations = self.activations_model.predict(validation_sample)\n",
    "        f = open('activations_at_epoch' + str(epoch) + '.npz', 'w')\n",
    "        np.savez(f, activations)\n",
    "        f.close()"
   ]
  },
  {
   "cell_type": "markdown",
   "metadata": {},
   "source": [
    "# TensorBoard简介：TensorFlow的可视化框架"
   ]
  },
  {
   "cell_type": "markdown",
   "metadata": {},
   "source": [
    "## 使用了TensorBoard的文本分类模型"
   ]
  },
  {
   "cell_type": "code",
   "execution_count": 1,
   "metadata": {},
   "outputs": [],
   "source": [
    "import keras\n",
    "from keras import layers\n",
    "from keras.datasets import imdb\n",
    "from keras.preprocessing import sequence"
   ]
  },
  {
   "cell_type": "code",
   "execution_count": 2,
   "metadata": {},
   "outputs": [],
   "source": [
    "max_features = 2000\n",
    "max_len = 500"
   ]
  },
  {
   "cell_type": "code",
   "execution_count": 3,
   "metadata": {},
   "outputs": [],
   "source": [
    "(x_train, y_train), (x_test, y_test) = imdb.load_data(num_words=max_features)"
   ]
  },
  {
   "cell_type": "code",
   "execution_count": 4,
   "metadata": {},
   "outputs": [],
   "source": [
    "x_train = sequence.pad_sequences(x_train, maxlen=max_len)\n",
    "x_test = sequence.pad_sequences(x_test, maxlen=max_len)"
   ]
  },
  {
   "cell_type": "code",
   "execution_count": 5,
   "metadata": {},
   "outputs": [
    {
     "name": "stdout",
     "output_type": "stream",
     "text": [
      "_________________________________________________________________\n",
      "Layer (type)                 Output Shape              Param #   \n",
      "=================================================================\n",
      "embed (Embedding)            (None, 500, 128)          256000    \n",
      "_________________________________________________________________\n",
      "conv1d_1 (Conv1D)            (None, 494, 32)           28704     \n",
      "_________________________________________________________________\n",
      "max_pooling1d_1 (MaxPooling1 (None, 98, 32)            0         \n",
      "_________________________________________________________________\n",
      "conv1d_2 (Conv1D)            (None, 92, 32)            7200      \n",
      "_________________________________________________________________\n",
      "global_max_pooling1d_1 (Glob (None, 32)                0         \n",
      "_________________________________________________________________\n",
      "dense_1 (Dense)              (None, 1)                 33        \n",
      "=================================================================\n",
      "Total params: 291,937\n",
      "Trainable params: 291,937\n",
      "Non-trainable params: 0\n",
      "_________________________________________________________________\n"
     ]
    }
   ],
   "source": [
    "model = keras.models.Sequential()\n",
    "model.add(layers.Embedding(input_dim=max_features, output_dim=128, input_length=max_len, name='embed'))\n",
    "model.add(layers.Conv1D(filters=32, kernel_size=7, activation='relu'))\n",
    "model.add(layers.MaxPooling1D(pool_size=5))\n",
    "model.add(layers.Conv1D(filters=32, kernel_size=7, activation='relu'))\n",
    "model.add(layers.GlobalMaxPooling1D())\n",
    "model.add(layers.Dense(units=1))\n",
    "model.summary()"
   ]
  },
  {
   "cell_type": "code",
   "execution_count": 6,
   "metadata": {},
   "outputs": [],
   "source": [
    "model.compile(optimizer='rmsprop', loss='binary_crossentropy', metrics=['acc'])"
   ]
  },
  {
   "cell_type": "markdown",
   "metadata": {},
   "source": [
    "## 为TensorBoard日志文件创建一个目录"
   ]
  },
  {
   "cell_type": "code",
   "execution_count": 7,
   "metadata": {},
   "outputs": [],
   "source": [
    "%mkdir my_log_dir"
   ]
  },
  {
   "cell_type": "markdown",
   "metadata": {},
   "source": [
    "## 使用一个TensorBoard回调函数来训练模型"
   ]
  },
  {
   "cell_type": "code",
   "execution_count": 12,
   "metadata": {},
   "outputs": [],
   "source": [
    "callbacks = [keras.callbacks.TensorBoard(log_dir='../my_log_dir/', histogram_freq=1, embeddings_freq=1)]"
   ]
  },
  {
   "cell_type": "code",
   "execution_count": 13,
   "metadata": {},
   "outputs": [
    {
     "name": "stdout",
     "output_type": "stream",
     "text": [
      "Train on 20000 samples, validate on 5000 samples\n",
      "Epoch 1/20\n",
      "20000/20000 [==============================] - 114s - loss: 0.0966 - acc: 0.1602 - val_loss: 1.1935 - val_acc: 0.2400\n",
      "Epoch 2/20\n",
      "20000/20000 [==============================] - 120s - loss: 0.0952 - acc: 0.1424 - val_loss: 1.2227 - val_acc: 0.2312\n",
      "Epoch 3/20\n",
      "20000/20000 [==============================] - 109s - loss: 0.0937 - acc: 0.1286 - val_loss: 1.5181 - val_acc: 0.2114\n",
      "Epoch 4/20\n",
      "20000/20000 [==============================] - 115s - loss: 0.0965 - acc: 0.1229 - val_loss: 1.3004 - val_acc: 0.2096\n",
      "Epoch 5/20\n",
      "20000/20000 [==============================] - 119s - loss: 0.0910 - acc: 0.1015 - val_loss: 1.3312 - val_acc: 0.1912\n",
      "Epoch 6/20\n",
      "20000/20000 [==============================] - 106s - loss: 0.0926 - acc: 0.0868 - val_loss: 1.3274 - val_acc: 0.1966\n",
      "Epoch 7/20\n",
      "20000/20000 [==============================] - 108s - loss: 0.0954 - acc: 0.0897 - val_loss: 1.3287 - val_acc: 0.1944\n",
      "Epoch 8/20\n",
      "20000/20000 [==============================] - 117s - loss: 0.0906 - acc: 0.0849 - val_loss: 1.3728 - val_acc: 0.1836\n",
      "Epoch 9/20\n",
      "20000/20000 [==============================] - 112s - loss: 0.0908 - acc: 0.0747 - val_loss: 1.4047 - val_acc: 0.1766\n",
      "Epoch 10/20\n",
      "20000/20000 [==============================] - 113s - loss: 0.0950 - acc: 0.0676 - val_loss: 1.3786 - val_acc: 0.1790\n",
      "Epoch 11/20\n",
      "20000/20000 [==============================] - 105s - loss: 0.0937 - acc: 0.0709 - val_loss: 1.3779 - val_acc: 0.1658\n",
      "Epoch 12/20\n",
      "20000/20000 [==============================] - 104s - loss: 0.0905 - acc: 0.0670 - val_loss: 1.3905 - val_acc: 0.1686\n",
      "Epoch 13/20\n",
      "20000/20000 [==============================] - 104s - loss: 0.0901 - acc: 0.0614 - val_loss: 1.3778 - val_acc: 0.1654\n",
      "Epoch 14/20\n",
      "20000/20000 [==============================] - 105s - loss: 0.0935 - acc: 0.0570 - val_loss: 1.4073 - val_acc: 0.1644\n",
      "Epoch 15/20\n",
      "20000/20000 [==============================] - 107s - loss: 0.0905 - acc: 0.0532 - val_loss: 1.4115 - val_acc: 0.1526\n",
      "Epoch 16/20\n",
      "20000/20000 [==============================] - 103s - loss: 0.0901 - acc: 0.0444 - val_loss: 1.4442 - val_acc: 0.1440\n",
      "Epoch 17/20\n",
      "20000/20000 [==============================] - 104s - loss: 0.0881 - acc: 0.0467 - val_loss: 1.6039 - val_acc: 0.1330\n",
      "Epoch 18/20\n",
      "20000/20000 [==============================] - 104s - loss: 0.0906 - acc: 0.0448 - val_loss: 1.5303 - val_acc: 0.1410\n",
      "Epoch 19/20\n",
      "20000/20000 [==============================] - 104s - loss: 0.0867 - acc: 0.0394 - val_loss: 1.7322 - val_acc: 0.1314\n",
      "Epoch 20/20\n",
      "20000/20000 [==============================] - 108s - loss: 0.0866 - acc: 0.0411 - val_loss: 1.4833 - val_acc: 0.1444\n"
     ]
    }
   ],
   "source": [
    "history = model.fit(x_train, y_train, epochs=20, batch_size=128, validation_split=0.2, callbacks=callbacks)"
   ]
  },
  {
   "cell_type": "code",
   "execution_count": 14,
   "metadata": {},
   "outputs": [],
   "source": [
    "model.save('imdb_model.h5')"
   ]
  },
  {
   "cell_type": "code",
   "execution_count": 15,
   "metadata": {},
   "outputs": [],
   "source": [
    "# TensorBoard可视化如下"
   ]
  },
  {
   "cell_type": "markdown",
   "metadata": {},
   "source": [
    "<figure class='half'>\n",
    "    <img src='scalars.png' height=500 width=500>\n",
    "    <img src='projector.png' height=500 width=500>\n",
    "    <img src='histograms.png' height=500 width=500>\n",
    "    <img src='graph.png' height=500 width=500>\n",
    "    <img src='distributions.png' height=500 width=500>\n",
    "</figure>"
   ]
  },
  {
   "cell_type": "code",
   "execution_count": 16,
   "metadata": {},
   "outputs": [],
   "source": [
    "# 也可以使用plot_model函数将模型绘制为层组成的图"
   ]
  },
  {
   "cell_type": "code",
   "execution_count": 2,
   "metadata": {},
   "outputs": [],
   "source": [
    "from keras.utils import plot_model\n",
    "from keras.models import load_model"
   ]
  },
  {
   "cell_type": "code",
   "execution_count": 3,
   "metadata": {},
   "outputs": [],
   "source": [
    "model = load_model(filepath='./imdb_model.h5')"
   ]
  },
  {
   "cell_type": "code",
   "execution_count": 4,
   "metadata": {},
   "outputs": [],
   "source": [
    "plot_model(model=model, to_file='./model.png')"
   ]
  },
  {
   "cell_type": "markdown",
   "metadata": {},
   "source": [
    "<img src='model.png' height=200 width=200>"
   ]
  },
  {
   "cell_type": "code",
   "execution_count": 5,
   "metadata": {},
   "outputs": [],
   "source": [
    "# 可视化模型的拓扑结构"
   ]
  },
  {
   "cell_type": "code",
   "execution_count": 6,
   "metadata": {},
   "outputs": [],
   "source": [
    "plot_model(model=model, show_shapes=True, to_file='./model_shapes.png')"
   ]
  },
  {
   "cell_type": "markdown",
   "metadata": {},
   "source": [
    "<img src='model_shapes.png' height=300 width=300>"
   ]
  }
 ],
 "metadata": {
  "kernelspec": {
   "display_name": "Python 3",
   "language": "python",
   "name": "python3"
  },
  "language_info": {
   "codemirror_mode": {
    "name": "ipython",
    "version": 3
   },
   "file_extension": ".py",
   "mimetype": "text/x-python",
   "name": "python",
   "nbconvert_exporter": "python",
   "pygments_lexer": "ipython3",
   "version": "3.6.5"
  },
  "toc": {
   "base_numbering": 1,
   "nav_menu": {},
   "number_sections": true,
   "sideBar": true,
   "skip_h1_title": false,
   "title_cell": "Table of Contents",
   "title_sidebar": "Contents",
   "toc_cell": false,
   "toc_position": {},
   "toc_section_display": true,
   "toc_window_display": false
  }
 },
 "nbformat": 4,
 "nbformat_minor": 2
}
